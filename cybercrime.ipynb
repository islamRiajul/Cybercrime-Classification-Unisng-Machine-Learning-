{
 "cells": [
  {
   "cell_type": "code",
   "execution_count": 1,
   "metadata": {},
   "outputs": [],
   "source": [
    "import numpy as np\n",
    "import pandas as pd\n",
    "import seaborn as sns\n",
    "import matplotlib.pyplot as plt\n",
    "import re\n",
    "from sklearn.preprocessing import StandardScaler,LabelEncoder\n",
    "from sklearn.ensemble import RandomForestClassifier\n",
    "from sklearn.neighbors import KNeighborsClassifier\n",
    "from sklearn.tree import DecisionTreeClassifier\n",
    "from sklearn.linear_model import LinearRegression\n",
    "from sklearn.linear_model import LogisticRegression\n",
    "from sklearn.naive_bayes import GaussianNB\n",
    "from sklearn import svm"
   ]
  },
  {
   "cell_type": "code",
   "execution_count": 97,
   "metadata": {},
   "outputs": [
    {
     "data": {
      "text/html": [
       "<div>\n",
       "<style scoped>\n",
       "    .dataframe tbody tr th:only-of-type {\n",
       "        vertical-align: middle;\n",
       "    }\n",
       "\n",
       "    .dataframe tbody tr th {\n",
       "        vertical-align: top;\n",
       "    }\n",
       "\n",
       "    .dataframe thead th {\n",
       "        text-align: right;\n",
       "    }\n",
       "</style>\n",
       "<table border=\"1\" class=\"dataframe\">\n",
       "  <thead>\n",
       "    <tr style=\"text-align: right;\">\n",
       "      <th></th>\n",
       "      <th>Company</th>\n",
       "      <th>Year</th>\n",
       "      <th>Records</th>\n",
       "      <th>Organization_type</th>\n",
       "      <th>Method</th>\n",
       "    </tr>\n",
       "  </thead>\n",
       "  <tbody>\n",
       "    <tr>\n",
       "      <th>0</th>\n",
       "      <td>1177 Care Guide</td>\n",
       "      <td>2020</td>\n",
       "      <td>270000000</td>\n",
       "      <td>medical</td>\n",
       "      <td>hacked</td>\n",
       "    </tr>\n",
       "    <tr>\n",
       "      <th>1</th>\n",
       "      <td>1to1help</td>\n",
       "      <td>2020</td>\n",
       "      <td>30000000</td>\n",
       "      <td>medical</td>\n",
       "      <td>it incident</td>\n",
       "    </tr>\n",
       "    <tr>\n",
       "      <th>2</th>\n",
       "      <td>3fun</td>\n",
       "      <td>2020</td>\n",
       "      <td>150000000</td>\n",
       "      <td>Web</td>\n",
       "      <td>it incident</td>\n",
       "    </tr>\n",
       "    <tr>\n",
       "      <th>3</th>\n",
       "      <td>Adobe Inc.</td>\n",
       "      <td>2020</td>\n",
       "      <td>750000000</td>\n",
       "      <td>tech</td>\n",
       "      <td>it incident</td>\n",
       "    </tr>\n",
       "    <tr>\n",
       "      <th>4</th>\n",
       "      <td>AgusiQ-Torrents.pl</td>\n",
       "      <td>2020</td>\n",
       "      <td>9047800</td>\n",
       "      <td>Web</td>\n",
       "      <td>hacked</td>\n",
       "    </tr>\n",
       "    <tr>\n",
       "      <th>...</th>\n",
       "      <td>...</td>\n",
       "      <td>...</td>\n",
       "      <td>...</td>\n",
       "      <td>...</td>\n",
       "      <td>...</td>\n",
       "    </tr>\n",
       "    <tr>\n",
       "      <th>1126</th>\n",
       "      <td>Tampa General Hospital</td>\n",
       "      <td>2011</td>\n",
       "      <td>675</td>\n",
       "      <td>medical</td>\n",
       "      <td>hacked</td>\n",
       "    </tr>\n",
       "    <tr>\n",
       "      <th>1127</th>\n",
       "      <td>Graybill Medical Group</td>\n",
       "      <td>2011</td>\n",
       "      <td>1863</td>\n",
       "      <td>medical</td>\n",
       "      <td>hacked</td>\n",
       "    </tr>\n",
       "    <tr>\n",
       "      <th>1128</th>\n",
       "      <td>Burlington Northern Santa Fe Group Benefits Plan</td>\n",
       "      <td>2011</td>\n",
       "      <td>507</td>\n",
       "      <td>medical</td>\n",
       "      <td>hacked</td>\n",
       "    </tr>\n",
       "    <tr>\n",
       "      <th>1129</th>\n",
       "      <td>VA Corporate Data Center Operations/Austin Inf...</td>\n",
       "      <td>2011</td>\n",
       "      <td>7029</td>\n",
       "      <td>medical</td>\n",
       "      <td>hacked</td>\n",
       "    </tr>\n",
       "    <tr>\n",
       "      <th>1130</th>\n",
       "      <td>Henry Ford Health System</td>\n",
       "      <td>2011</td>\n",
       "      <td>500</td>\n",
       "      <td>organization</td>\n",
       "      <td>hacked</td>\n",
       "    </tr>\n",
       "  </tbody>\n",
       "</table>\n",
       "<p>1131 rows × 5 columns</p>\n",
       "</div>"
      ],
      "text/plain": [
       "                                                Company  Year    Records  \\\n",
       "0                                       1177 Care Guide  2020  270000000   \n",
       "1                                              1to1help  2020   30000000   \n",
       "2                                                  3fun  2020  150000000   \n",
       "3                                            Adobe Inc.  2020  750000000   \n",
       "4                                    AgusiQ-Torrents.pl  2020    9047800   \n",
       "...                                                 ...   ...        ...   \n",
       "1126                             Tampa General Hospital  2011        675   \n",
       "1127                             Graybill Medical Group  2011       1863   \n",
       "1128   Burlington Northern Santa Fe Group Benefits Plan  2011        507   \n",
       "1129  VA Corporate Data Center Operations/Austin Inf...  2011       7029   \n",
       "1130                           Henry Ford Health System  2011        500   \n",
       "\n",
       "     Organization_type       Method  \n",
       "0              medical       hacked  \n",
       "1              medical  it incident  \n",
       "2                  Web  it incident  \n",
       "3                 tech  it incident  \n",
       "4                  Web       hacked  \n",
       "...                ...          ...  \n",
       "1126           medical       hacked  \n",
       "1127           medical       hacked  \n",
       "1128           medical       hacked  \n",
       "1129           medical       hacked  \n",
       "1130      organization       hacked  \n",
       "\n",
       "[1131 rows x 5 columns]"
      ]
     },
     "execution_count": 97,
     "metadata": {},
     "output_type": "execute_result"
    }
   ],
   "source": [
    "cyberdata = pd.read_csv('cydata.csv',encoding='latin-1')\n",
    "cyberdata = cyberdata.replace(np.nan, 0, regex=True)\n",
    "cyberdata['Records'] =cyberdata['Records'].str.replace(r'[^\\w\\s]+','')\n",
    "cyberdata['Records'] =cyberdata['Records'].str.replace(r' ','')\n",
    "cyberdata['Records']=cyberdata['Records'].astype('int64')\n",
    "cyberdata['Organization_type'].replace({'information technology':'tech','Telecoms':'tech','Tech':'tech',' tech':'tech','techmunications':'tech','Airline':'organization','Retail':'organization','Financial':'organization','Education':'organization','academic':'organization','government':'organization','government':'organization','Government':'organization','Hospitality':'organization','mobile carrier':'organization','advertising':'organization','consulting, accounting':'organization','teching':'organization','military':'organization','Healthcare':'medical','App':'Web','Automobile':'Web','Gaming':'Web','Other':'Web'}, inplace=True)\n",
    "cyberdata[\"Method\"].replace({\"lost\": 'hacked','poor security':'hacked','Hacking/IT Incident':'hacked','Oops':'hacked','Hacked':'hacked','theft':'hacked','Third-party':'hacked','Theft':'hacked','Loss':'hacked','poor security/inside job':'hacked','unsecured S3 bucket':'hacked','Insider Job':'hacked','inside job, hacked':'hacked','poor security / hacked':'hacked','misconfiguration/poor security':'hacked','Unauthorized access':'hacked','lost / stolen media':'it incident','lost / stolen computer':'it incident','Misconfiguration':'it incident','unprotected api':'it incident','accidentally published':'it incident','accidentally uploaded':'it incident','accidentally exposed':'it incident','social engineering':'it incident','data exposed by misconfiguration':'data breach','inside job':'data breach'}, inplace=True)\n",
    "cyberdata['Organization_type'] = pd.to_numeric(cyberdata['Organization_type'], errors='ignore')\n",
    "cyberdata"
   ]
  },
  {
   "cell_type": "code",
   "execution_count": 98,
   "metadata": {},
   "outputs": [
    {
     "data": {
      "text/html": [
       "<div>\n",
       "<style scoped>\n",
       "    .dataframe tbody tr th:only-of-type {\n",
       "        vertical-align: middle;\n",
       "    }\n",
       "\n",
       "    .dataframe tbody tr th {\n",
       "        vertical-align: top;\n",
       "    }\n",
       "\n",
       "    .dataframe thead th {\n",
       "        text-align: right;\n",
       "    }\n",
       "</style>\n",
       "<table border=\"1\" class=\"dataframe\">\n",
       "  <thead>\n",
       "    <tr style=\"text-align: right;\">\n",
       "      <th></th>\n",
       "      <th>Company</th>\n",
       "      <th>Year</th>\n",
       "      <th>Records</th>\n",
       "      <th>Organization_type</th>\n",
       "      <th>Method</th>\n",
       "    </tr>\n",
       "  </thead>\n",
       "  <tbody>\n",
       "    <tr>\n",
       "      <th>0</th>\n",
       "      <td>Henry Ford Health System</td>\n",
       "      <td>2011</td>\n",
       "      <td>500</td>\n",
       "      <td>organization</td>\n",
       "      <td>hacked</td>\n",
       "    </tr>\n",
       "    <tr>\n",
       "      <th>1</th>\n",
       "      <td>VA Corporate Data Center Operations/Austin Inf...</td>\n",
       "      <td>2011</td>\n",
       "      <td>7029</td>\n",
       "      <td>medical</td>\n",
       "      <td>hacked</td>\n",
       "    </tr>\n",
       "    <tr>\n",
       "      <th>2</th>\n",
       "      <td>Burlington Northern Santa Fe Group Benefits Plan</td>\n",
       "      <td>2011</td>\n",
       "      <td>507</td>\n",
       "      <td>medical</td>\n",
       "      <td>hacked</td>\n",
       "    </tr>\n",
       "    <tr>\n",
       "      <th>3</th>\n",
       "      <td>Graybill Medical Group</td>\n",
       "      <td>2011</td>\n",
       "      <td>1863</td>\n",
       "      <td>medical</td>\n",
       "      <td>hacked</td>\n",
       "    </tr>\n",
       "    <tr>\n",
       "      <th>4</th>\n",
       "      <td>Tampa General Hospital</td>\n",
       "      <td>2011</td>\n",
       "      <td>675</td>\n",
       "      <td>medical</td>\n",
       "      <td>hacked</td>\n",
       "    </tr>\n",
       "    <tr>\n",
       "      <th>...</th>\n",
       "      <td>...</td>\n",
       "      <td>...</td>\n",
       "      <td>...</td>\n",
       "      <td>...</td>\n",
       "      <td>...</td>\n",
       "    </tr>\n",
       "    <tr>\n",
       "      <th>1126</th>\n",
       "      <td>AgusiQ-Torrents.pl</td>\n",
       "      <td>2020</td>\n",
       "      <td>9047800</td>\n",
       "      <td>Web</td>\n",
       "      <td>hacked</td>\n",
       "    </tr>\n",
       "    <tr>\n",
       "      <th>1127</th>\n",
       "      <td>Adobe Inc.</td>\n",
       "      <td>2020</td>\n",
       "      <td>750000000</td>\n",
       "      <td>tech</td>\n",
       "      <td>it incident</td>\n",
       "    </tr>\n",
       "    <tr>\n",
       "      <th>1128</th>\n",
       "      <td>3fun</td>\n",
       "      <td>2020</td>\n",
       "      <td>150000000</td>\n",
       "      <td>Web</td>\n",
       "      <td>it incident</td>\n",
       "    </tr>\n",
       "    <tr>\n",
       "      <th>1129</th>\n",
       "      <td>1to1help</td>\n",
       "      <td>2020</td>\n",
       "      <td>30000000</td>\n",
       "      <td>medical</td>\n",
       "      <td>it incident</td>\n",
       "    </tr>\n",
       "    <tr>\n",
       "      <th>1130</th>\n",
       "      <td>1177 Care Guide</td>\n",
       "      <td>2020</td>\n",
       "      <td>270000000</td>\n",
       "      <td>medical</td>\n",
       "      <td>hacked</td>\n",
       "    </tr>\n",
       "  </tbody>\n",
       "</table>\n",
       "<p>1131 rows × 5 columns</p>\n",
       "</div>"
      ],
      "text/plain": [
       "                                                Company  Year    Records  \\\n",
       "0                              Henry Ford Health System  2011        500   \n",
       "1     VA Corporate Data Center Operations/Austin Inf...  2011       7029   \n",
       "2      Burlington Northern Santa Fe Group Benefits Plan  2011        507   \n",
       "3                                Graybill Medical Group  2011       1863   \n",
       "4                                Tampa General Hospital  2011        675   \n",
       "...                                                 ...   ...        ...   \n",
       "1126                                 AgusiQ-Torrents.pl  2020    9047800   \n",
       "1127                                         Adobe Inc.  2020  750000000   \n",
       "1128                                               3fun  2020  150000000   \n",
       "1129                                           1to1help  2020   30000000   \n",
       "1130                                    1177 Care Guide  2020  270000000   \n",
       "\n",
       "     Organization_type       Method  \n",
       "0         organization       hacked  \n",
       "1              medical       hacked  \n",
       "2              medical       hacked  \n",
       "3              medical       hacked  \n",
       "4              medical       hacked  \n",
       "...                ...          ...  \n",
       "1126               Web       hacked  \n",
       "1127              tech  it incident  \n",
       "1128               Web  it incident  \n",
       "1129           medical  it incident  \n",
       "1130           medical       hacked  \n",
       "\n",
       "[1131 rows x 5 columns]"
      ]
     },
     "execution_count": 98,
     "metadata": {},
     "output_type": "execute_result"
    }
   ],
   "source": [
    "cyberdata=cyberdata.iloc[::-1].reset_index(drop=True)\n",
    "cyberdata"
   ]
  },
  {
   "cell_type": "code",
   "execution_count": 99,
   "metadata": {},
   "outputs": [
    {
     "data": {
      "text/html": [
       "<div>\n",
       "<style scoped>\n",
       "    .dataframe tbody tr th:only-of-type {\n",
       "        vertical-align: middle;\n",
       "    }\n",
       "\n",
       "    .dataframe tbody tr th {\n",
       "        vertical-align: top;\n",
       "    }\n",
       "\n",
       "    .dataframe thead th {\n",
       "        text-align: right;\n",
       "    }\n",
       "</style>\n",
       "<table border=\"1\" class=\"dataframe\">\n",
       "  <thead>\n",
       "    <tr style=\"text-align: right;\">\n",
       "      <th></th>\n",
       "      <th>Company</th>\n",
       "      <th>Year</th>\n",
       "      <th>Records</th>\n",
       "      <th>Organization_type</th>\n",
       "      <th>Method</th>\n",
       "      <th>Breach_Severity</th>\n",
       "    </tr>\n",
       "  </thead>\n",
       "  <tbody>\n",
       "    <tr>\n",
       "      <th>0</th>\n",
       "      <td>Henry Ford Health System</td>\n",
       "      <td>2011</td>\n",
       "      <td>500</td>\n",
       "      <td>organization</td>\n",
       "      <td>hacked</td>\n",
       "      <td>low</td>\n",
       "    </tr>\n",
       "    <tr>\n",
       "      <th>1</th>\n",
       "      <td>VA Corporate Data Center Operations/Austin Inf...</td>\n",
       "      <td>2011</td>\n",
       "      <td>7029</td>\n",
       "      <td>medical</td>\n",
       "      <td>hacked</td>\n",
       "      <td>low</td>\n",
       "    </tr>\n",
       "    <tr>\n",
       "      <th>2</th>\n",
       "      <td>Burlington Northern Santa Fe Group Benefits Plan</td>\n",
       "      <td>2011</td>\n",
       "      <td>507</td>\n",
       "      <td>medical</td>\n",
       "      <td>hacked</td>\n",
       "      <td>low</td>\n",
       "    </tr>\n",
       "    <tr>\n",
       "      <th>3</th>\n",
       "      <td>Graybill Medical Group</td>\n",
       "      <td>2011</td>\n",
       "      <td>1863</td>\n",
       "      <td>medical</td>\n",
       "      <td>hacked</td>\n",
       "      <td>low</td>\n",
       "    </tr>\n",
       "    <tr>\n",
       "      <th>4</th>\n",
       "      <td>Tampa General Hospital</td>\n",
       "      <td>2011</td>\n",
       "      <td>675</td>\n",
       "      <td>medical</td>\n",
       "      <td>hacked</td>\n",
       "      <td>low</td>\n",
       "    </tr>\n",
       "    <tr>\n",
       "      <th>...</th>\n",
       "      <td>...</td>\n",
       "      <td>...</td>\n",
       "      <td>...</td>\n",
       "      <td>...</td>\n",
       "      <td>...</td>\n",
       "      <td>...</td>\n",
       "    </tr>\n",
       "    <tr>\n",
       "      <th>1126</th>\n",
       "      <td>AgusiQ-Torrents.pl</td>\n",
       "      <td>2020</td>\n",
       "      <td>9047800</td>\n",
       "      <td>Web</td>\n",
       "      <td>hacked</td>\n",
       "      <td>high</td>\n",
       "    </tr>\n",
       "    <tr>\n",
       "      <th>1127</th>\n",
       "      <td>Adobe Inc.</td>\n",
       "      <td>2020</td>\n",
       "      <td>750000000</td>\n",
       "      <td>tech</td>\n",
       "      <td>it incident</td>\n",
       "      <td>high</td>\n",
       "    </tr>\n",
       "    <tr>\n",
       "      <th>1128</th>\n",
       "      <td>3fun</td>\n",
       "      <td>2020</td>\n",
       "      <td>150000000</td>\n",
       "      <td>Web</td>\n",
       "      <td>it incident</td>\n",
       "      <td>high</td>\n",
       "    </tr>\n",
       "    <tr>\n",
       "      <th>1129</th>\n",
       "      <td>1to1help</td>\n",
       "      <td>2020</td>\n",
       "      <td>30000000</td>\n",
       "      <td>medical</td>\n",
       "      <td>it incident</td>\n",
       "      <td>high</td>\n",
       "    </tr>\n",
       "    <tr>\n",
       "      <th>1130</th>\n",
       "      <td>1177 Care Guide</td>\n",
       "      <td>2020</td>\n",
       "      <td>270000000</td>\n",
       "      <td>medical</td>\n",
       "      <td>hacked</td>\n",
       "      <td>high</td>\n",
       "    </tr>\n",
       "  </tbody>\n",
       "</table>\n",
       "<p>1131 rows × 6 columns</p>\n",
       "</div>"
      ],
      "text/plain": [
       "                                                Company  Year    Records  \\\n",
       "0                              Henry Ford Health System  2011        500   \n",
       "1     VA Corporate Data Center Operations/Austin Inf...  2011       7029   \n",
       "2      Burlington Northern Santa Fe Group Benefits Plan  2011        507   \n",
       "3                                Graybill Medical Group  2011       1863   \n",
       "4                                Tampa General Hospital  2011        675   \n",
       "...                                                 ...   ...        ...   \n",
       "1126                                 AgusiQ-Torrents.pl  2020    9047800   \n",
       "1127                                         Adobe Inc.  2020  750000000   \n",
       "1128                                               3fun  2020  150000000   \n",
       "1129                                           1to1help  2020   30000000   \n",
       "1130                                    1177 Care Guide  2020  270000000   \n",
       "\n",
       "     Organization_type       Method Breach_Severity  \n",
       "0         organization       hacked             low  \n",
       "1              medical       hacked             low  \n",
       "2              medical       hacked             low  \n",
       "3              medical       hacked             low  \n",
       "4              medical       hacked             low  \n",
       "...                ...          ...             ...  \n",
       "1126               Web       hacked            high  \n",
       "1127              tech  it incident            high  \n",
       "1128               Web  it incident            high  \n",
       "1129           medical  it incident            high  \n",
       "1130           medical       hacked            high  \n",
       "\n",
       "[1131 rows x 6 columns]"
      ]
     },
     "execution_count": 99,
     "metadata": {},
     "output_type": "execute_result"
    }
   ],
   "source": [
    "cyberdata['Breach_Severity']= np.where(cyberdata.Records <=10000, 'low',np.where(cyberdata.Records <=100000, 'medium','high'))\n",
    "cyberdata"
   ]
  },
  {
   "cell_type": "code",
   "execution_count": 100,
   "metadata": {},
   "outputs": [],
   "source": [
    "df=cyberdata"
   ]
  },
  {
   "cell_type": "code",
   "execution_count": 101,
   "metadata": {},
   "outputs": [
    {
     "data": {
      "text/plain": [
       "medical         476\n",
       "organization    404\n",
       "tech            174\n",
       "Web              77\n",
       "Name: Organization_type, dtype: int64"
      ]
     },
     "execution_count": 101,
     "metadata": {},
     "output_type": "execute_result"
    }
   ],
   "source": [
    "df['Organization_type'].value_counts()"
   ]
  },
  {
   "cell_type": "code",
   "execution_count": 102,
   "metadata": {},
   "outputs": [
    {
     "data": {
      "text/plain": [
       "<AxesSubplot:xlabel='Organization_type', ylabel='count'>"
      ]
     },
     "execution_count": 102,
     "metadata": {},
     "output_type": "execute_result"
    },
    {
     "data": {
      "image/png": "[encoded data removed]",
      "text/plain": [
       "<Figure size 1080x720 with 1 Axes>"
      ]
     },
     "metadata": {
      "needs_background": "light"
     },
     "output_type": "display_data"
    }
   ],
   "source": [
    "plt.figure(figsize=(15,10))\n",
    "sns.countplot(x='Organization_type',hue='Breach_Severity',data=cyberdata,palette='Set1')"
   ]
  },
  {
   "cell_type": "code",
   "execution_count": 103,
   "metadata": {},
   "outputs": [
    {
     "data": {
      "text/plain": [
       "<AxesSubplot:xlabel='Year', ylabel='count'>"
      ]
     },
     "execution_count": 103,
     "metadata": {},
     "output_type": "execute_result"
    },
    {
     "data": {
      "image/png": "[encoded data removed]",
      "text/plain": [
       "<Figure size 1080x720 with 1 Axes>"
      ]
     },
     "metadata": {
      "needs_background": "light"
     },
     "output_type": "display_data"
    }
   ],
   "source": [
    "plt.figure(figsize=(15,10))\n",
    "sns.countplot(x='Year',hue='Method',data=cyberdata,palette='Set1')"
   ]
  },
  {
   "cell_type": "code",
   "execution_count": 104,
   "metadata": {},
   "outputs": [
    {
     "data": {
      "text/html": [
       "<div>\n",
       "<style scoped>\n",
       "    .dataframe tbody tr th:only-of-type {\n",
       "        vertical-align: middle;\n",
       "    }\n",
       "\n",
       "    .dataframe tbody tr th {\n",
       "        vertical-align: top;\n",
       "    }\n",
       "\n",
       "    .dataframe thead th {\n",
       "        text-align: right;\n",
       "    }\n",
       "</style>\n",
       "<table border=\"1\" class=\"dataframe\">\n",
       "  <thead>\n",
       "    <tr style=\"text-align: right;\">\n",
       "      <th></th>\n",
       "      <th>Company</th>\n",
       "      <th>Year</th>\n",
       "      <th>Records</th>\n",
       "      <th>Organization_type</th>\n",
       "      <th>Method</th>\n",
       "      <th>Breach_Severity</th>\n",
       "    </tr>\n",
       "  </thead>\n",
       "  <tbody>\n",
       "    <tr>\n",
       "      <th>0</th>\n",
       "      <td>Henry Ford Health System</td>\n",
       "      <td>2011</td>\n",
       "      <td>500</td>\n",
       "      <td>2</td>\n",
       "      <td>1</td>\n",
       "      <td>low</td>\n",
       "    </tr>\n",
       "    <tr>\n",
       "      <th>1</th>\n",
       "      <td>VA Corporate Data Center Operations/Austin Inf...</td>\n",
       "      <td>2011</td>\n",
       "      <td>7029</td>\n",
       "      <td>1</td>\n",
       "      <td>1</td>\n",
       "      <td>low</td>\n",
       "    </tr>\n",
       "    <tr>\n",
       "      <th>2</th>\n",
       "      <td>Burlington Northern Santa Fe Group Benefits Plan</td>\n",
       "      <td>2011</td>\n",
       "      <td>507</td>\n",
       "      <td>1</td>\n",
       "      <td>1</td>\n",
       "      <td>low</td>\n",
       "    </tr>\n",
       "    <tr>\n",
       "      <th>3</th>\n",
       "      <td>Graybill Medical Group</td>\n",
       "      <td>2011</td>\n",
       "      <td>1863</td>\n",
       "      <td>1</td>\n",
       "      <td>1</td>\n",
       "      <td>low</td>\n",
       "    </tr>\n",
       "    <tr>\n",
       "      <th>4</th>\n",
       "      <td>Tampa General Hospital</td>\n",
       "      <td>2011</td>\n",
       "      <td>675</td>\n",
       "      <td>1</td>\n",
       "      <td>1</td>\n",
       "      <td>low</td>\n",
       "    </tr>\n",
       "    <tr>\n",
       "      <th>...</th>\n",
       "      <td>...</td>\n",
       "      <td>...</td>\n",
       "      <td>...</td>\n",
       "      <td>...</td>\n",
       "      <td>...</td>\n",
       "      <td>...</td>\n",
       "    </tr>\n",
       "    <tr>\n",
       "      <th>1126</th>\n",
       "      <td>AgusiQ-Torrents.pl</td>\n",
       "      <td>2020</td>\n",
       "      <td>9047800</td>\n",
       "      <td>0</td>\n",
       "      <td>1</td>\n",
       "      <td>high</td>\n",
       "    </tr>\n",
       "    <tr>\n",
       "      <th>1127</th>\n",
       "      <td>Adobe Inc.</td>\n",
       "      <td>2020</td>\n",
       "      <td>750000000</td>\n",
       "      <td>3</td>\n",
       "      <td>2</td>\n",
       "      <td>high</td>\n",
       "    </tr>\n",
       "    <tr>\n",
       "      <th>1128</th>\n",
       "      <td>3fun</td>\n",
       "      <td>2020</td>\n",
       "      <td>150000000</td>\n",
       "      <td>0</td>\n",
       "      <td>2</td>\n",
       "      <td>high</td>\n",
       "    </tr>\n",
       "    <tr>\n",
       "      <th>1129</th>\n",
       "      <td>1to1help</td>\n",
       "      <td>2020</td>\n",
       "      <td>30000000</td>\n",
       "      <td>1</td>\n",
       "      <td>2</td>\n",
       "      <td>high</td>\n",
       "    </tr>\n",
       "    <tr>\n",
       "      <th>1130</th>\n",
       "      <td>1177 Care Guide</td>\n",
       "      <td>2020</td>\n",
       "      <td>270000000</td>\n",
       "      <td>1</td>\n",
       "      <td>1</td>\n",
       "      <td>high</td>\n",
       "    </tr>\n",
       "  </tbody>\n",
       "</table>\n",
       "<p>1131 rows × 6 columns</p>\n",
       "</div>"
      ],
      "text/plain": [
       "                                                Company  Year    Records  \\\n",
       "0                              Henry Ford Health System  2011        500   \n",
       "1     VA Corporate Data Center Operations/Austin Inf...  2011       7029   \n",
       "2      Burlington Northern Santa Fe Group Benefits Plan  2011        507   \n",
       "3                                Graybill Medical Group  2011       1863   \n",
       "4                                Tampa General Hospital  2011        675   \n",
       "...                                                 ...   ...        ...   \n",
       "1126                                 AgusiQ-Torrents.pl  2020    9047800   \n",
       "1127                                         Adobe Inc.  2020  750000000   \n",
       "1128                                               3fun  2020  150000000   \n",
       "1129                                           1to1help  2020   30000000   \n",
       "1130                                    1177 Care Guide  2020  270000000   \n",
       "\n",
       "      Organization_type  Method Breach_Severity  \n",
       "0                     2       1             low  \n",
       "1                     1       1             low  \n",
       "2                     1       1             low  \n",
       "3                     1       1             low  \n",
       "4                     1       1             low  \n",
       "...                 ...     ...             ...  \n",
       "1126                  0       1            high  \n",
       "1127                  3       2            high  \n",
       "1128                  0       2            high  \n",
       "1129                  1       2            high  \n",
       "1130                  1       1            high  \n",
       "\n",
       "[1131 rows x 6 columns]"
      ]
     },
     "execution_count": 104,
     "metadata": {},
     "output_type": "execute_result"
    }
   ],
   "source": [
    "le=LabelEncoder()\n",
    "df['Organization_type']=le.fit_transform(cyberdata['Organization_type'])\n",
    "df['Method']=le.fit_transform(cyberdata['Method'])\n",
    "df"
   ]
  },
  {
   "cell_type": "markdown",
   "metadata": {},
   "source": [
    "# Decision Tree"
   ]
  },
  {
   "cell_type": "code",
   "execution_count": 105,
   "metadata": {},
   "outputs": [],
   "source": [
    "x=df.iloc[:,[1,2,3,4]]\n",
    "y=df.iloc[:, 5]"
   ]
  },
  {
   "cell_type": "code",
   "execution_count": 106,
   "metadata": {},
   "outputs": [],
   "source": [
    "from sklearn.model_selection import train_test_split\n",
    "x_train,x_test,y_train,y_test=train_test_split(x,y,test_size=0.3,random_state = 10)"
   ]
  },
  {
   "cell_type": "code",
   "execution_count": 107,
   "metadata": {},
   "outputs": [
    {
     "data": {
      "text/html": [
       "<div>\n",
       "<style scoped>\n",
       "    .dataframe tbody tr th:only-of-type {\n",
       "        vertical-align: middle;\n",
       "    }\n",
       "\n",
       "    .dataframe tbody tr th {\n",
       "        vertical-align: top;\n",
       "    }\n",
       "\n",
       "    .dataframe thead th {\n",
       "        text-align: right;\n",
       "    }\n",
       "</style>\n",
       "<table border=\"1\" class=\"dataframe\">\n",
       "  <thead>\n",
       "    <tr style=\"text-align: right;\">\n",
       "      <th></th>\n",
       "      <th>Year</th>\n",
       "      <th>Records</th>\n",
       "      <th>Organization_type</th>\n",
       "      <th>Method</th>\n",
       "    </tr>\n",
       "  </thead>\n",
       "  <tbody>\n",
       "    <tr>\n",
       "      <th>695</th>\n",
       "      <td>2020</td>\n",
       "      <td>44000</td>\n",
       "      <td>2</td>\n",
       "      <td>1</td>\n",
       "    </tr>\n",
       "    <tr>\n",
       "      <th>484</th>\n",
       "      <td>2018</td>\n",
       "      <td>1386</td>\n",
       "      <td>2</td>\n",
       "      <td>1</td>\n",
       "    </tr>\n",
       "    <tr>\n",
       "      <th>615</th>\n",
       "      <td>2020</td>\n",
       "      <td>6302</td>\n",
       "      <td>1</td>\n",
       "      <td>0</td>\n",
       "    </tr>\n",
       "    <tr>\n",
       "      <th>452</th>\n",
       "      <td>2018</td>\n",
       "      <td>1782</td>\n",
       "      <td>1</td>\n",
       "      <td>2</td>\n",
       "    </tr>\n",
       "    <tr>\n",
       "      <th>698</th>\n",
       "      <td>2020</td>\n",
       "      <td>5000</td>\n",
       "      <td>1</td>\n",
       "      <td>2</td>\n",
       "    </tr>\n",
       "    <tr>\n",
       "      <th>...</th>\n",
       "      <td>...</td>\n",
       "      <td>...</td>\n",
       "      <td>...</td>\n",
       "      <td>...</td>\n",
       "    </tr>\n",
       "    <tr>\n",
       "      <th>930</th>\n",
       "      <td>2020</td>\n",
       "      <td>6300000</td>\n",
       "      <td>2</td>\n",
       "      <td>1</td>\n",
       "    </tr>\n",
       "    <tr>\n",
       "      <th>572</th>\n",
       "      <td>2019</td>\n",
       "      <td>106000000</td>\n",
       "      <td>2</td>\n",
       "      <td>1</td>\n",
       "    </tr>\n",
       "    <tr>\n",
       "      <th>878</th>\n",
       "      <td>2020</td>\n",
       "      <td>400000</td>\n",
       "      <td>2</td>\n",
       "      <td>1</td>\n",
       "    </tr>\n",
       "    <tr>\n",
       "      <th>871</th>\n",
       "      <td>2020</td>\n",
       "      <td>600</td>\n",
       "      <td>1</td>\n",
       "      <td>1</td>\n",
       "    </tr>\n",
       "    <tr>\n",
       "      <th>969</th>\n",
       "      <td>2020</td>\n",
       "      <td>68689900</td>\n",
       "      <td>2</td>\n",
       "      <td>2</td>\n",
       "    </tr>\n",
       "  </tbody>\n",
       "</table>\n",
       "<p>340 rows × 4 columns</p>\n",
       "</div>"
      ],
      "text/plain": [
       "     Year    Records  Organization_type  Method\n",
       "695  2020      44000                  2       1\n",
       "484  2018       1386                  2       1\n",
       "615  2020       6302                  1       0\n",
       "452  2018       1782                  1       2\n",
       "698  2020       5000                  1       2\n",
       "..    ...        ...                ...     ...\n",
       "930  2020    6300000                  2       1\n",
       "572  2019  106000000                  2       1\n",
       "878  2020     400000                  2       1\n",
       "871  2020        600                  1       1\n",
       "969  2020   68689900                  2       2\n",
       "\n",
       "[340 rows x 4 columns]"
      ]
     },
     "execution_count": 107,
     "metadata": {},
     "output_type": "execute_result"
    }
   ],
   "source": [
    "x_test"
   ]
  },
  {
   "cell_type": "code",
   "execution_count": 108,
   "metadata": {},
   "outputs": [
    {
     "data": {
      "text/plain": [
       "array(['medium', 'low', 'low', 'low', 'low', 'low', 'low', 'low', 'high',\n",
       "       'medium', 'high', 'high', 'medium', 'low', 'low', 'low', 'high',\n",
       "       'high', 'low', 'medium', 'low', 'medium', 'high', 'high', 'high',\n",
       "       'high', 'medium', 'high', 'low', 'low', 'high', 'low', 'medium',\n",
       "       'high', 'high', 'low', 'high', 'medium', 'medium', 'low', 'medium',\n",
       "       'low', 'low', 'low', 'high', 'high', 'high', 'low', 'low', 'high',\n",
       "       'low', 'low', 'high', 'low', 'high', 'low', 'high', 'high',\n",
       "       'medium', 'low', 'high', 'high', 'low', 'high', 'high', 'low',\n",
       "       'low', 'high', 'high', 'low', 'high', 'medium', 'low', 'medium',\n",
       "       'high', 'low', 'high', 'high', 'low', 'high', 'high', 'high',\n",
       "       'high', 'high', 'high', 'high', 'medium', 'medium', 'high', 'high',\n",
       "       'high', 'high', 'high', 'medium', 'medium', 'medium', 'low',\n",
       "       'high', 'high', 'high', 'medium', 'high', 'high', 'low', 'high',\n",
       "       'high', 'low', 'medium', 'high', 'high', 'low', 'low', 'low',\n",
       "       'high', 'high', 'low', 'high', 'low', 'high', 'high', 'low', 'low',\n",
       "       'high', 'medium', 'low', 'low', 'high', 'low', 'low', 'low',\n",
       "       'high', 'high', 'low', 'high', 'high', 'low', 'high', 'high',\n",
       "       'low', 'high', 'low', 'low', 'low', 'low', 'high', 'low', 'low',\n",
       "       'low', 'low', 'low', 'high', 'low', 'high', 'high', 'low', 'high',\n",
       "       'low', 'low', 'high', 'high', 'high', 'high', 'high', 'high',\n",
       "       'low', 'high', 'low', 'low', 'high', 'high', 'high', 'low', 'low',\n",
       "       'low', 'high', 'high', 'medium', 'high', 'high', 'low', 'high',\n",
       "       'high', 'high', 'high', 'low', 'medium', 'low', 'low', 'medium',\n",
       "       'high', 'low', 'low', 'high', 'medium', 'low', 'high', 'medium',\n",
       "       'low', 'low', 'high', 'low', 'low', 'high', 'high', 'high',\n",
       "       'medium', 'low', 'medium', 'low', 'medium', 'low', 'low', 'high',\n",
       "       'medium', 'high', 'medium', 'high', 'low', 'low', 'low', 'low',\n",
       "       'low', 'high', 'low', 'low', 'high', 'low', 'low', 'medium',\n",
       "       'high', 'high', 'low', 'high', 'high', 'medium', 'high', 'high',\n",
       "       'high', 'high', 'low', 'high', 'low', 'low', 'medium', 'low',\n",
       "       'medium', 'high', 'low', 'high', 'high', 'high', 'medium',\n",
       "       'medium', 'low', 'high', 'medium', 'high', 'high', 'high',\n",
       "       'medium', 'high', 'high', 'high', 'high', 'high', 'high', 'high',\n",
       "       'low', 'low', 'medium', 'high', 'high', 'low', 'medium', 'high',\n",
       "       'high', 'low', 'low', 'low', 'high', 'low', 'high', 'low', 'low',\n",
       "       'high', 'high', 'medium', 'high', 'high', 'high', 'medium', 'low',\n",
       "       'high', 'low', 'high', 'high', 'high', 'low', 'low', 'medium',\n",
       "       'medium', 'low', 'low', 'low', 'low', 'high', 'low', 'high',\n",
       "       'medium', 'low', 'low', 'low', 'low', 'high', 'low', 'high', 'low',\n",
       "       'medium', 'high', 'low', 'high', 'high', 'low', 'medium', 'high',\n",
       "       'low', 'low', 'high', 'high', 'medium', 'high', 'medium', 'low',\n",
       "       'high', 'high', 'high', 'high', 'high', 'low', 'high'],\n",
       "      dtype=object)"
      ]
     },
     "execution_count": 108,
     "metadata": {},
     "output_type": "execute_result"
    }
   ],
   "source": [
    "dtree = DecisionTreeClassifier()\n",
    "dtree.fit(x_train,y_train)\n",
    "y_pred=dtree.predict(x_test)\n",
    "y_pred"
   ]
  },
  {
   "cell_type": "code",
   "execution_count": 109,
   "metadata": {},
   "outputs": [
    {
     "data": {
      "text/plain": [
       "0.9970588235294118"
      ]
     },
     "execution_count": 109,
     "metadata": {},
     "output_type": "execute_result"
    }
   ],
   "source": [
    "from sklearn.metrics import accuracy_score\n",
    "acc=accuracy_score(y_test, y_pred)\n",
    "acc"
   ]
  },
  {
   "cell_type": "code",
   "execution_count": 110,
   "metadata": {},
   "outputs": [],
   "source": [
    "#df1=x_test\n",
    "#df1['orginal_Value']=y_test\n",
    "#df1['predict_value']=y_pred\n",
    "#df1"
   ]
  },
  {
   "cell_type": "code",
   "execution_count": 111,
   "metadata": {},
   "outputs": [],
   "source": [
    "def chart_regression(pred,y,sort=True):\n",
    "    t=pd.DataFrame({'pred':pred,'y':y.flatten()})\n",
    "    if sort:\n",
    "        t.sort_values(by=['y'],inplace=True)\n",
    "    plt.plot(t['y'].tolist(),label='execpted')\n",
    "    plt.plot(t['pred'].tolist(),label='prediction')\n",
    "    plt.ylabel('OUTPUT')\n",
    "    plt.legend()\n",
    "    plt.show()"
   ]
  },
  {
   "cell_type": "code",
   "execution_count": 112,
   "metadata": {},
   "outputs": [
    {
     "data": {
      "image/png": "[encoded data removed]",
      "text/plain": [
       "<Figure size 432x288 with 1 Axes>"
      ]
     },
     "metadata": {
      "needs_background": "light"
     },
     "output_type": "display_data"
    }
   ],
   "source": [
    "y_test = np.array(list(y_test))\n",
    "y_pred = np.array(y_pred)\n",
    "chart_regression(y_pred.flatten(),y_test)"
   ]
  },
  {
   "cell_type": "markdown",
   "metadata": {},
   "source": [
    "# Random Forest"
   ]
  },
  {
   "cell_type": "code",
   "execution_count": 113,
   "metadata": {},
   "outputs": [],
   "source": [
    "x=df.iloc[:,[1,2,3,4]]\n",
    "y=df.iloc[:, 5]"
   ]
  },
  {
   "cell_type": "code",
   "execution_count": 114,
   "metadata": {},
   "outputs": [],
   "source": [
    "from sklearn.model_selection import train_test_split\n",
    "x_train,x_test,y_train,y_test=train_test_split(x,y,test_size=0.3,random_state = 10)"
   ]
  },
  {
   "cell_type": "code",
   "execution_count": 115,
   "metadata": {},
   "outputs": [
    {
     "data": {
      "text/plain": [
       "array(['medium', 'low', 'low', 'low', 'low', 'low', 'low', 'low', 'high',\n",
       "       'medium', 'high', 'high', 'medium', 'low', 'low', 'low', 'high',\n",
       "       'high', 'low', 'medium', 'low', 'medium', 'high', 'high', 'high',\n",
       "       'high', 'medium', 'high', 'low', 'low', 'high', 'low', 'medium',\n",
       "       'high', 'high', 'low', 'high', 'medium', 'medium', 'low', 'medium',\n",
       "       'low', 'low', 'low', 'high', 'high', 'high', 'low', 'low', 'high',\n",
       "       'low', 'low', 'high', 'low', 'high', 'low', 'high', 'high',\n",
       "       'medium', 'low', 'high', 'high', 'low', 'high', 'high', 'low',\n",
       "       'low', 'high', 'high', 'low', 'high', 'medium', 'low', 'medium',\n",
       "       'high', 'low', 'high', 'high', 'low', 'high', 'high', 'high',\n",
       "       'high', 'high', 'high', 'high', 'medium', 'medium', 'high', 'high',\n",
       "       'high', 'high', 'high', 'medium', 'medium', 'medium', 'low',\n",
       "       'high', 'high', 'high', 'medium', 'high', 'high', 'low', 'high',\n",
       "       'high', 'low', 'medium', 'high', 'high', 'low', 'low', 'low',\n",
       "       'high', 'high', 'low', 'high', 'low', 'high', 'high', 'low', 'low',\n",
       "       'high', 'medium', 'low', 'low', 'high', 'low', 'low', 'low',\n",
       "       'high', 'high', 'low', 'high', 'high', 'low', 'high', 'high',\n",
       "       'low', 'high', 'low', 'low', 'low', 'low', 'high', 'low', 'low',\n",
       "       'low', 'low', 'low', 'high', 'low', 'high', 'high', 'low', 'high',\n",
       "       'low', 'low', 'high', 'high', 'high', 'high', 'high', 'high',\n",
       "       'low', 'high', 'low', 'low', 'high', 'high', 'high', 'low', 'low',\n",
       "       'low', 'high', 'high', 'medium', 'high', 'high', 'low', 'high',\n",
       "       'high', 'high', 'high', 'low', 'medium', 'low', 'low', 'medium',\n",
       "       'high', 'low', 'low', 'high', 'medium', 'low', 'high', 'medium',\n",
       "       'low', 'low', 'high', 'low', 'low', 'high', 'high', 'high',\n",
       "       'medium', 'low', 'medium', 'low', 'medium', 'low', 'low', 'high',\n",
       "       'medium', 'high', 'medium', 'high', 'low', 'low', 'low', 'low',\n",
       "       'low', 'high', 'low', 'low', 'high', 'low', 'low', 'medium',\n",
       "       'high', 'high', 'low', 'high', 'high', 'medium', 'high', 'high',\n",
       "       'high', 'high', 'low', 'high', 'low', 'low', 'medium', 'low',\n",
       "       'medium', 'high', 'low', 'high', 'high', 'high', 'medium',\n",
       "       'medium', 'low', 'high', 'medium', 'high', 'high', 'high',\n",
       "       'medium', 'high', 'high', 'high', 'high', 'high', 'high', 'high',\n",
       "       'low', 'low', 'medium', 'high', 'high', 'low', 'medium', 'high',\n",
       "       'high', 'low', 'low', 'low', 'high', 'low', 'high', 'low', 'low',\n",
       "       'high', 'high', 'medium', 'high', 'high', 'high', 'medium', 'low',\n",
       "       'high', 'low', 'high', 'high', 'high', 'low', 'low', 'medium',\n",
       "       'medium', 'low', 'low', 'low', 'low', 'high', 'low', 'high',\n",
       "       'medium', 'low', 'low', 'low', 'low', 'high', 'low', 'high', 'low',\n",
       "       'medium', 'high', 'low', 'high', 'high', 'low', 'medium', 'high',\n",
       "       'low', 'low', 'high', 'high', 'medium', 'high', 'medium', 'low',\n",
       "       'high', 'high', 'high', 'high', 'high', 'low', 'high'],\n",
       "      dtype=object)"
      ]
     },
     "execution_count": 115,
     "metadata": {},
     "output_type": "execute_result"
    }
   ],
   "source": [
    "from sklearn.ensemble import RandomForestRegressor\n",
    "rfc = RandomForestClassifier(n_estimators=100)\n",
    "rfc.fit(x_train,y_train)\n",
    "y_pred=rfc.predict(x_test)\n",
    "y_pred"
   ]
  },
  {
   "cell_type": "code",
   "execution_count": 116,
   "metadata": {},
   "outputs": [
    {
     "data": {
      "text/plain": [
       "0.9970588235294118"
      ]
     },
     "execution_count": 116,
     "metadata": {},
     "output_type": "execute_result"
    }
   ],
   "source": [
    "from sklearn.metrics import accuracy_score\n",
    "acc=accuracy_score(y_test, y_pred)\n",
    "acc"
   ]
  },
  {
   "cell_type": "code",
   "execution_count": 117,
   "metadata": {},
   "outputs": [],
   "source": [
    "def chart_regression(pred,y,sort=True):\n",
    "    t=pd.DataFrame({'pred':pred,'y':y.flatten()})\n",
    "    if sort:\n",
    "        t.sort_values(by=['y'],inplace=True)\n",
    "    plt.plot(t['y'].tolist(),label='execpted')\n",
    "    plt.plot(t['pred'].tolist(),label='prediction')\n",
    "    plt.ylabel('OUTPUT')\n",
    "    plt.legend()\n",
    "    plt.show()"
   ]
  },
  {
   "cell_type": "code",
   "execution_count": 118,
   "metadata": {},
   "outputs": [
    {
     "data": {
      "image/png": "[encoded data removed]",
      "text/plain": [
       "<Figure size 432x288 with 1 Axes>"
      ]
     },
     "metadata": {
      "needs_background": "light"
     },
     "output_type": "display_data"
    }
   ],
   "source": [
    "y_test = np.array(list(y_test))\n",
    "y_pred = np.array(y_pred)\n",
    "chart_regression(y_pred.flatten(),y_test)"
   ]
  },
  {
   "cell_type": "code",
   "execution_count": 25,
   "metadata": {},
   "outputs": [],
   "source": [
    "#from sklearn.feature_extraction.text import TfidfVectorizer\n",
    "#vectorizer =TfidfVectorizer(tokenizer=lambda doc: doc, lowercase=False,use_idf=True, \n",
    "                       # smooth_idf=True).fit_transform(x)\n"
   ]
  },
  {
   "cell_type": "markdown",
   "metadata": {},
   "source": [
    "# KNN"
   ]
  },
  {
   "cell_type": "code",
   "execution_count": 119,
   "metadata": {},
   "outputs": [],
   "source": [
    "x=df.iloc[:,[1,2,3,4]]\n",
    "y=df.iloc[:, 5]"
   ]
  },
  {
   "cell_type": "code",
   "execution_count": 120,
   "metadata": {},
   "outputs": [],
   "source": [
    "from sklearn.model_selection import train_test_split\n",
    "x_train,x_test,y_train,y_test=train_test_split(x,y,test_size=0.3,random_state = 10)"
   ]
  },
  {
   "cell_type": "code",
   "execution_count": 121,
   "metadata": {},
   "outputs": [
    {
     "data": {
      "text/plain": [
       "array(['medium', 'low', 'low', 'low', 'low', 'low', 'low', 'low', 'high',\n",
       "       'medium', 'high', 'high', 'medium', 'low', 'low', 'low', 'high',\n",
       "       'high', 'low', 'low', 'low', 'medium', 'high', 'high', 'high',\n",
       "       'high', 'medium', 'high', 'low', 'low', 'high', 'low', 'medium',\n",
       "       'high', 'high', 'low', 'high', 'medium', 'medium', 'low', 'medium',\n",
       "       'low', 'low', 'low', 'high', 'high', 'high', 'low', 'low', 'high',\n",
       "       'low', 'low', 'high', 'low', 'high', 'low', 'high', 'high',\n",
       "       'medium', 'low', 'high', 'high', 'low', 'high', 'high', 'low',\n",
       "       'low', 'high', 'high', 'low', 'high', 'medium', 'low', 'medium',\n",
       "       'high', 'low', 'high', 'high', 'low', 'high', 'high', 'high',\n",
       "       'high', 'high', 'high', 'high', 'medium', 'medium', 'high', 'high',\n",
       "       'high', 'high', 'high', 'medium', 'medium', 'medium', 'low',\n",
       "       'high', 'high', 'high', 'medium', 'high', 'high', 'low', 'high',\n",
       "       'high', 'low', 'medium', 'high', 'high', 'low', 'low', 'low',\n",
       "       'high', 'high', 'low', 'high', 'low', 'high', 'high', 'low', 'low',\n",
       "       'high', 'medium', 'low', 'low', 'high', 'low', 'low', 'low',\n",
       "       'high', 'high', 'low', 'high', 'high', 'low', 'high', 'high',\n",
       "       'low', 'high', 'low', 'low', 'low', 'low', 'high', 'low', 'low',\n",
       "       'low', 'low', 'low', 'high', 'low', 'high', 'high', 'low', 'high',\n",
       "       'low', 'low', 'high', 'high', 'high', 'high', 'high', 'high',\n",
       "       'low', 'high', 'low', 'low', 'high', 'high', 'high', 'low', 'low',\n",
       "       'low', 'high', 'high', 'medium', 'high', 'high', 'low', 'high',\n",
       "       'high', 'high', 'high', 'low', 'medium', 'low', 'low', 'medium',\n",
       "       'high', 'low', 'low', 'high', 'medium', 'low', 'high', 'medium',\n",
       "       'low', 'low', 'high', 'low', 'low', 'high', 'high', 'high',\n",
       "       'medium', 'low', 'medium', 'low', 'medium', 'low', 'low', 'high',\n",
       "       'medium', 'high', 'low', 'high', 'low', 'low', 'low', 'low', 'low',\n",
       "       'high', 'low', 'low', 'high', 'low', 'low', 'medium', 'high',\n",
       "       'high', 'low', 'high', 'high', 'medium', 'high', 'high', 'high',\n",
       "       'high', 'low', 'high', 'low', 'low', 'medium', 'low', 'medium',\n",
       "       'high', 'low', 'high', 'high', 'high', 'medium', 'medium', 'low',\n",
       "       'high', 'medium', 'high', 'high', 'high', 'medium', 'high', 'high',\n",
       "       'high', 'high', 'high', 'high', 'high', 'low', 'low', 'medium',\n",
       "       'high', 'high', 'low', 'medium', 'high', 'high', 'low', 'low',\n",
       "       'low', 'high', 'low', 'high', 'low', 'low', 'high', 'high',\n",
       "       'medium', 'high', 'high', 'high', 'medium', 'low', 'high', 'low',\n",
       "       'high', 'high', 'high', 'low', 'low', 'medium', 'medium', 'low',\n",
       "       'low', 'low', 'low', 'high', 'low', 'high', 'medium', 'low', 'low',\n",
       "       'low', 'low', 'high', 'low', 'high', 'low', 'medium', 'high',\n",
       "       'low', 'high', 'high', 'low', 'medium', 'high', 'low', 'low',\n",
       "       'high', 'high', 'medium', 'high', 'medium', 'low', 'high', 'high',\n",
       "       'high', 'high', 'high', 'low', 'high'], dtype=object)"
      ]
     },
     "execution_count": 121,
     "metadata": {},
     "output_type": "execute_result"
    }
   ],
   "source": [
    "from sklearn.neighbors import KNeighborsClassifier\n",
    "kn = KNeighborsClassifier()\n",
    "kn.fit(x_train,y_train)\n",
    "y_pred = kn.predict(x_test)\n",
    "y_pred"
   ]
  },
  {
   "cell_type": "code",
   "execution_count": 122,
   "metadata": {},
   "outputs": [
    {
     "data": {
      "text/plain": [
       "0.9911764705882353"
      ]
     },
     "execution_count": 122,
     "metadata": {},
     "output_type": "execute_result"
    }
   ],
   "source": [
    "from sklearn.metrics import accuracy_score\n",
    "acc=accuracy_score(y_test, y_pred)\n",
    "acc"
   ]
  },
  {
   "cell_type": "code",
   "execution_count": 123,
   "metadata": {},
   "outputs": [],
   "source": [
    "def chart_regression(pred,y,sort=True):\n",
    "    t=pd.DataFrame({'pred':pred,'y':y.flatten()})\n",
    "    if sort:\n",
    "        t.sort_values(by=['y'],inplace=True)\n",
    "    plt.plot(t['y'].tolist(),label='execpted')\n",
    "    plt.plot(t['pred'].tolist(),label='prediction')\n",
    "    plt.ylabel('OUTPUT')\n",
    "    plt.legend()\n",
    "    plt.show()"
   ]
  },
  {
   "cell_type": "code",
   "execution_count": 124,
   "metadata": {},
   "outputs": [
    {
     "data": {
      "image/png": "[encoded data removed]",
      "text/plain": [
       "<Figure size 432x288 with 1 Axes>"
      ]
     },
     "metadata": {
      "needs_background": "light"
     },
     "output_type": "display_data"
    }
   ],
   "source": [
    "y_test = np.array(list(y_test))\n",
    "y_pred = np.array(y_pred)\n",
    "chart_regression(y_pred.flatten(),y_test)"
   ]
  },
  {
   "cell_type": "markdown",
   "metadata": {},
   "source": [
    "# NB"
   ]
  },
  {
   "cell_type": "code",
   "execution_count": 130,
   "metadata": {},
   "outputs": [],
   "source": [
    "x=df.iloc[:,[1,2,3,4]]\n",
    "y=df.iloc[:, 5]"
   ]
  },
  {
   "cell_type": "code",
   "execution_count": 131,
   "metadata": {},
   "outputs": [],
   "source": [
    "from sklearn.model_selection import train_test_split\n",
    "x_train,x_test,y_train,y_test=train_test_split(x,y,test_size=0.3,random_state = 10)"
   ]
  },
  {
   "cell_type": "code",
   "execution_count": 132,
   "metadata": {},
   "outputs": [
    {
     "data": {
      "text/plain": [
       "array(['low', 'low', 'low', 'low', 'low', 'low', 'low', 'low', 'high',\n",
       "       'low', 'low', 'low', 'low', 'low', 'low', 'low', 'low', 'high',\n",
       "       'low', 'low', 'low', 'low', 'low', 'high', 'high', 'high', 'low',\n",
       "       'high', 'low', 'low', 'low', 'low', 'low', 'high', 'high', 'low',\n",
       "       'high', 'low', 'low', 'low', 'low', 'low', 'low', 'low', 'low',\n",
       "       'high', 'high', 'low', 'low', 'high', 'low', 'low', 'high', 'low',\n",
       "       'high', 'low', 'high', 'high', 'low', 'low', 'high', 'low', 'low',\n",
       "       'low', 'high', 'low', 'low', 'high', 'low', 'low', 'high', 'low',\n",
       "       'low', 'low', 'high', 'low', 'low', 'low', 'low', 'high', 'high',\n",
       "       'high', 'high', 'high', 'high', 'low', 'low', 'low', 'high',\n",
       "       'high', 'high', 'low', 'high', 'low', 'low', 'low', 'low', 'high',\n",
       "       'high', 'low', 'low', 'high', 'high', 'low', 'high', 'low', 'low',\n",
       "       'low', 'low', 'high', 'low', 'low', 'low', 'low', 'low', 'low',\n",
       "       'low', 'low', 'low', 'high', 'low', 'low', 'high', 'low', 'low',\n",
       "       'low', 'low', 'low', 'low', 'low', 'high', 'low', 'low', 'high',\n",
       "       'high', 'low', 'high', 'high', 'low', 'high', 'low', 'low', 'low',\n",
       "       'low', 'low', 'low', 'low', 'low', 'low', 'low', 'high', 'low',\n",
       "       'high', 'high', 'low', 'high', 'low', 'low', 'low', 'high', 'high',\n",
       "       'high', 'high', 'high', 'low', 'high', 'low', 'low', 'high', 'low',\n",
       "       'high', 'low', 'low', 'low', 'high', 'high', 'low', 'low', 'high',\n",
       "       'low', 'high', 'low', 'high', 'high', 'low', 'low', 'low', 'low',\n",
       "       'low', 'high', 'low', 'low', 'high', 'low', 'low', 'high', 'low',\n",
       "       'low', 'low', 'low', 'low', 'low', 'high', 'high', 'high', 'low',\n",
       "       'low', 'low', 'low', 'low', 'low', 'low', 'high', 'low', 'high',\n",
       "       'low', 'high', 'low', 'low', 'low', 'low', 'low', 'low', 'low',\n",
       "       'low', 'low', 'low', 'low', 'low', 'high', 'low', 'low', 'high',\n",
       "       'high', 'low', 'high', 'high', 'high', 'low', 'low', 'low', 'low',\n",
       "       'low', 'low', 'low', 'low', 'high', 'low', 'high', 'low', 'low',\n",
       "       'low', 'low', 'low', 'low', 'low', 'high', 'low', 'low', 'low',\n",
       "       'high', 'high', 'high', 'low', 'high', 'high', 'low', 'low', 'low',\n",
       "       'low', 'high', 'high', 'low', 'low', 'high', 'high', 'low', 'low',\n",
       "       'low', 'high', 'low', 'high', 'low', 'low', 'low', 'high', 'low',\n",
       "       'low', 'high', 'high', 'low', 'low', 'high', 'low', 'high', 'high',\n",
       "       'high', 'low', 'low', 'low', 'low', 'low', 'low', 'low', 'low',\n",
       "       'high', 'low', 'high', 'low', 'low', 'low', 'low', 'low', 'low',\n",
       "       'low', 'low', 'low', 'low', 'high', 'low', 'low', 'high', 'low',\n",
       "       'low', 'high', 'low', 'low', 'high', 'high', 'low', 'high', 'low',\n",
       "       'low', 'high', 'high', 'high', 'high', 'low', 'low', 'high'],\n",
       "      dtype='<U6')"
      ]
     },
     "execution_count": 132,
     "metadata": {},
     "output_type": "execute_result"
    }
   ],
   "source": [
    "from sklearn.naive_bayes import GaussianNB\n",
    "model = GaussianNB()\n",
    "model.fit(x_train, y_train)\n",
    "y_pred = model.predict(x_test)\n",
    "y_pred"
   ]
  },
  {
   "cell_type": "code",
   "execution_count": 133,
   "metadata": {},
   "outputs": [
    {
     "data": {
      "text/plain": [
       "0.7176470588235294"
      ]
     },
     "execution_count": 133,
     "metadata": {},
     "output_type": "execute_result"
    }
   ],
   "source": [
    "from sklearn.metrics import accuracy_score\n",
    "acc=accuracy_score(y_test, y_pred)\n",
    "acc"
   ]
  },
  {
   "cell_type": "code",
   "execution_count": 134,
   "metadata": {},
   "outputs": [],
   "source": [
    "def chart_regression(pred,y,sort=True):\n",
    "    t=pd.DataFrame({'pred':pred,'y':y.flatten()})\n",
    "    if sort:\n",
    "        t.sort_values(by=['y'],inplace=True)\n",
    "    plt.plot(t['y'].tolist(),label='execpted')\n",
    "    plt.plot(t['pred'].tolist(),label='prediction')\n",
    "    plt.ylabel('OUTPUT')\n",
    "    plt.legend()\n",
    "    plt.show()"
   ]
  },
  {
   "cell_type": "code",
   "execution_count": 135,
   "metadata": {},
   "outputs": [
    {
     "data": {
      "image/png": "[encoded data removed]",
      "text/plain": [
       "<Figure size 432x288 with 1 Axes>"
      ]
     },
     "metadata": {
      "needs_background": "light"
     },
     "output_type": "display_data"
    }
   ],
   "source": [
    "y_test = np.array(list(y_test))\n",
    "y_pred = np.array(y_pred)\n",
    "chart_regression(y_pred.flatten(),y_test)"
   ]
  },
  {
   "cell_type": "markdown",
   "metadata": {},
   "source": [
    "# Adaboost"
   ]
  },
  {
   "cell_type": "code",
   "execution_count": 136,
   "metadata": {},
   "outputs": [],
   "source": [
    "x=df.iloc[:,[1,2,3,4]]\n",
    "y=df.iloc[:, 5]"
   ]
  },
  {
   "cell_type": "code",
   "execution_count": 137,
   "metadata": {},
   "outputs": [],
   "source": [
    "from sklearn.model_selection import train_test_split\n",
    "x_train,x_test,y_train,y_test=train_test_split(x,y,test_size=0.3,random_state = 10)"
   ]
  },
  {
   "cell_type": "code",
   "execution_count": 138,
   "metadata": {},
   "outputs": [
    {
     "data": {
      "text/plain": [
       "array(['medium', 'low', 'low', 'low', 'low', 'low', 'low', 'low', 'high',\n",
       "       'medium', 'high', 'high', 'medium', 'low', 'low', 'low', 'high',\n",
       "       'high', 'low', 'medium', 'low', 'medium', 'high', 'high', 'high',\n",
       "       'high', 'medium', 'high', 'low', 'low', 'high', 'low', 'medium',\n",
       "       'high', 'high', 'low', 'high', 'medium', 'medium', 'low', 'medium',\n",
       "       'low', 'low', 'low', 'high', 'high', 'high', 'low', 'low', 'high',\n",
       "       'low', 'low', 'high', 'low', 'high', 'low', 'high', 'high',\n",
       "       'medium', 'low', 'high', 'high', 'low', 'high', 'high', 'low',\n",
       "       'low', 'high', 'high', 'low', 'high', 'medium', 'low', 'medium',\n",
       "       'high', 'low', 'high', 'high', 'low', 'high', 'high', 'high',\n",
       "       'high', 'high', 'high', 'high', 'medium', 'medium', 'high', 'high',\n",
       "       'high', 'high', 'high', 'medium', 'medium', 'medium', 'low',\n",
       "       'high', 'high', 'high', 'medium', 'high', 'high', 'low', 'high',\n",
       "       'high', 'low', 'medium', 'high', 'high', 'low', 'low', 'low',\n",
       "       'high', 'high', 'low', 'high', 'low', 'high', 'high', 'low', 'low',\n",
       "       'high', 'medium', 'low', 'low', 'high', 'low', 'low', 'low',\n",
       "       'high', 'high', 'low', 'high', 'high', 'low', 'high', 'high',\n",
       "       'low', 'high', 'low', 'low', 'low', 'low', 'high', 'low', 'low',\n",
       "       'low', 'low', 'low', 'high', 'low', 'high', 'high', 'low', 'high',\n",
       "       'low', 'low', 'high', 'high', 'high', 'high', 'high', 'high',\n",
       "       'low', 'high', 'low', 'low', 'high', 'high', 'high', 'low', 'low',\n",
       "       'low', 'high', 'high', 'medium', 'high', 'high', 'low', 'high',\n",
       "       'high', 'high', 'high', 'low', 'medium', 'low', 'low', 'medium',\n",
       "       'high', 'low', 'low', 'high', 'medium', 'low', 'high', 'medium',\n",
       "       'low', 'low', 'high', 'low', 'low', 'high', 'high', 'high',\n",
       "       'medium', 'low', 'medium', 'low', 'medium', 'low', 'low', 'high',\n",
       "       'medium', 'high', 'medium', 'high', 'low', 'low', 'low', 'low',\n",
       "       'low', 'high', 'low', 'low', 'high', 'low', 'low', 'medium',\n",
       "       'high', 'high', 'low', 'high', 'high', 'medium', 'high', 'high',\n",
       "       'high', 'high', 'low', 'high', 'low', 'low', 'medium', 'low',\n",
       "       'medium', 'high', 'low', 'high', 'high', 'high', 'medium',\n",
       "       'medium', 'low', 'high', 'medium', 'high', 'high', 'high',\n",
       "       'medium', 'high', 'high', 'high', 'high', 'high', 'high', 'high',\n",
       "       'low', 'low', 'medium', 'high', 'high', 'low', 'medium', 'high',\n",
       "       'high', 'low', 'low', 'low', 'high', 'low', 'high', 'low', 'low',\n",
       "       'high', 'high', 'medium', 'high', 'high', 'high', 'medium', 'low',\n",
       "       'high', 'low', 'high', 'high', 'high', 'low', 'low', 'medium',\n",
       "       'medium', 'low', 'low', 'low', 'low', 'high', 'low', 'high',\n",
       "       'medium', 'low', 'low', 'low', 'low', 'high', 'low', 'high', 'low',\n",
       "       'medium', 'high', 'low', 'high', 'high', 'low', 'medium', 'high',\n",
       "       'low', 'low', 'high', 'high', 'medium', 'high', 'medium', 'low',\n",
       "       'high', 'high', 'high', 'high', 'high', 'low', 'high'],\n",
       "      dtype=object)"
      ]
     },
     "execution_count": 138,
     "metadata": {},
     "output_type": "execute_result"
    }
   ],
   "source": [
    "from sklearn.ensemble import AdaBoostClassifier\n",
    "abc = AdaBoostClassifier(n_estimators=50,learning_rate=1)\n",
    "model = abc.fit(x_train, y_train)\n",
    "y_pred = model.predict(x_test)\n",
    "y_pred"
   ]
  },
  {
   "cell_type": "code",
   "execution_count": 139,
   "metadata": {},
   "outputs": [
    {
     "data": {
      "text/plain": [
       "0.9970588235294118"
      ]
     },
     "execution_count": 139,
     "metadata": {},
     "output_type": "execute_result"
    }
   ],
   "source": [
    "from sklearn.metrics import accuracy_score\n",
    "acc=accuracy_score(y_test, y_pred)\n",
    "acc"
   ]
  },
  {
   "cell_type": "code",
   "execution_count": 140,
   "metadata": {},
   "outputs": [],
   "source": [
    "def chart_regression(pred,y,sort=True):\n",
    "    t=pd.DataFrame({'pred':pred,'y':y.flatten()})\n",
    "    if sort:\n",
    "        t.sort_values(by=['y'],inplace=True)\n",
    "    plt.plot(t['y'].tolist(),label='execpted')\n",
    "    plt.plot(t['pred'].tolist(),label='prediction')\n",
    "    plt.ylabel('OUTPUT')\n",
    "    plt.legend()\n",
    "    plt.show()"
   ]
  },
  {
   "cell_type": "code",
   "execution_count": 141,
   "metadata": {},
   "outputs": [
    {
     "data": {
      "image/png": "[encoded data removed]",
      "text/plain": [
       "<Figure size 432x288 with 1 Axes>"
      ]
     },
     "metadata": {
      "needs_background": "light"
     },
     "output_type": "display_data"
    }
   ],
   "source": [
    "y_test = np.array(list(y_test))\n",
    "y_pred = np.array(y_pred)\n",
    "chart_regression(y_pred.flatten(),y_test)"
   ]
  },
  {
   "cell_type": "markdown",
   "metadata": {},
   "source": [
    "# LR"
   ]
  },
  {
   "cell_type": "code",
   "execution_count": 142,
   "metadata": {},
   "outputs": [],
   "source": [
    "x=df.iloc[:,[1,2,3,4]]\n",
    "y=df.iloc[:, 5]"
   ]
  },
  {
   "cell_type": "code",
   "execution_count": 143,
   "metadata": {},
   "outputs": [],
   "source": [
    "from sklearn.model_selection import train_test_split\n",
    "x_train,x_test,y_train,y_test=train_test_split(x,y,test_size=0.3,random_state = 10)"
   ]
  },
  {
   "cell_type": "code",
   "execution_count": 144,
   "metadata": {},
   "outputs": [
    {
     "name": "stderr",
     "output_type": "stream",
     "text": [
      "c:\\users\\riaju\\appdata\\local\\programs\\python\\python38\\lib\\site-packages\\sklearn\\linear_model\\_logistic.py:762: ConvergenceWarning: lbfgs failed to converge (status=1):\n",
      "STOP: TOTAL NO. of ITERATIONS REACHED LIMIT.\n",
      "\n",
      "Increase the number of iterations (max_iter) or scale the data as shown in:\n",
      "    https://scikit-learn.org/stable/modules/preprocessing.html\n",
      "Please also refer to the documentation for alternative solver options:\n",
      "    https://scikit-learn.org/stable/modules/linear_model.html#logistic-regression\n",
      "  n_iter_i = _check_optimize_result(\n"
     ]
    },
    {
     "data": {
      "text/plain": [
       "array(['medium', 'low', 'low', 'low', 'low', 'low', 'low', 'low', 'high',\n",
       "       'medium', 'high', 'high', 'medium', 'low', 'low', 'low', 'high',\n",
       "       'high', 'low', 'medium', 'low', 'medium', 'high', 'high', 'high',\n",
       "       'high', 'medium', 'high', 'low', 'low', 'high', 'low', 'medium',\n",
       "       'high', 'high', 'low', 'high', 'medium', 'medium', 'low', 'medium',\n",
       "       'low', 'low', 'low', 'high', 'high', 'high', 'low', 'low', 'high',\n",
       "       'low', 'low', 'high', 'low', 'high', 'low', 'high', 'high',\n",
       "       'medium', 'low', 'high', 'high', 'low', 'high', 'high', 'low',\n",
       "       'low', 'high', 'high', 'low', 'high', 'medium', 'low', 'medium',\n",
       "       'high', 'low', 'high', 'high', 'low', 'high', 'high', 'high',\n",
       "       'high', 'high', 'high', 'high', 'medium', 'medium', 'high', 'high',\n",
       "       'high', 'high', 'high', 'medium', 'medium', 'medium', 'low',\n",
       "       'high', 'high', 'high', 'medium', 'high', 'high', 'low', 'high',\n",
       "       'high', 'low', 'medium', 'high', 'high', 'low', 'low', 'low',\n",
       "       'high', 'high', 'low', 'high', 'low', 'high', 'high', 'low', 'low',\n",
       "       'high', 'medium', 'low', 'low', 'high', 'low', 'low', 'low',\n",
       "       'high', 'high', 'low', 'high', 'high', 'low', 'high', 'high',\n",
       "       'low', 'high', 'low', 'low', 'low', 'low', 'high', 'low', 'low',\n",
       "       'low', 'low', 'low', 'high', 'low', 'high', 'high', 'low', 'high',\n",
       "       'low', 'low', 'high', 'high', 'high', 'high', 'high', 'high',\n",
       "       'low', 'high', 'low', 'low', 'high', 'high', 'high', 'low', 'low',\n",
       "       'low', 'high', 'high', 'medium', 'high', 'high', 'low', 'high',\n",
       "       'high', 'high', 'high', 'low', 'medium', 'low', 'low', 'medium',\n",
       "       'high', 'low', 'low', 'high', 'medium', 'low', 'high', 'medium',\n",
       "       'low', 'low', 'high', 'low', 'low', 'high', 'high', 'high',\n",
       "       'medium', 'low', 'medium', 'low', 'medium', 'low', 'low', 'high',\n",
       "       'medium', 'high', 'medium', 'high', 'low', 'low', 'low', 'low',\n",
       "       'low', 'high', 'low', 'low', 'high', 'low', 'low', 'medium',\n",
       "       'high', 'high', 'low', 'high', 'high', 'medium', 'high', 'high',\n",
       "       'high', 'high', 'low', 'high', 'low', 'low', 'medium', 'low',\n",
       "       'medium', 'high', 'low', 'high', 'high', 'high', 'medium',\n",
       "       'medium', 'low', 'high', 'medium', 'high', 'high', 'high',\n",
       "       'medium', 'high', 'high', 'high', 'high', 'high', 'high', 'high',\n",
       "       'low', 'low', 'medium', 'high', 'high', 'low', 'medium', 'high',\n",
       "       'high', 'low', 'low', 'low', 'high', 'low', 'high', 'low', 'low',\n",
       "       'high', 'high', 'medium', 'high', 'high', 'high', 'medium', 'low',\n",
       "       'high', 'low', 'high', 'high', 'high', 'low', 'low', 'medium',\n",
       "       'medium', 'low', 'low', 'low', 'low', 'high', 'low', 'high',\n",
       "       'medium', 'low', 'low', 'low', 'low', 'high', 'low', 'high', 'low',\n",
       "       'medium', 'high', 'low', 'high', 'high', 'low', 'medium', 'high',\n",
       "       'low', 'low', 'high', 'high', 'medium', 'high', 'medium', 'low',\n",
       "       'high', 'high', 'high', 'high', 'high', 'low', 'high'],\n",
       "      dtype=object)"
      ]
     },
     "execution_count": 144,
     "metadata": {},
     "output_type": "execute_result"
    }
   ],
   "source": [
    "from sklearn.linear_model import LogisticRegression\n",
    "classifier = LogisticRegression()\n",
    "classifier.fit(x_train,y_train)\n",
    "y_pred = classifier.predict(x_test)\n",
    "y_pred"
   ]
  },
  {
   "cell_type": "code",
   "execution_count": 145,
   "metadata": {},
   "outputs": [
    {
     "data": {
      "text/plain": [
       "0.9970588235294118"
      ]
     },
     "execution_count": 145,
     "metadata": {},
     "output_type": "execute_result"
    }
   ],
   "source": [
    "from sklearn.metrics import accuracy_score\n",
    "acc=accuracy_score(y_test, y_pred)\n",
    "acc"
   ]
  },
  {
   "cell_type": "code",
   "execution_count": 146,
   "metadata": {},
   "outputs": [],
   "source": [
    "def chart_regression(pred,y,sort=True):\n",
    "    t=pd.DataFrame({'pred':pred,'y':y.flatten()})\n",
    "    if sort:\n",
    "        t.sort_values(by=['y'],inplace=True)\n",
    "    plt.plot(t['y'].tolist(),label='execpted')\n",
    "    plt.plot(t['pred'].tolist(),label='prediction')\n",
    "    plt.ylabel('OUTPUT')\n",
    "    plt.legend()\n",
    "    plt.show()"
   ]
  },
  {
   "cell_type": "code",
   "execution_count": 147,
   "metadata": {},
   "outputs": [
    {
     "data": {
      "image/png": "[encoded data removed]",
      "text/plain": [
       "<Figure size 432x288 with 1 Axes>"
      ]
     },
     "metadata": {
      "needs_background": "light"
     },
     "output_type": "display_data"
    }
   ],
   "source": [
    "y_test = np.array(list(y_test))\n",
    "y_pred = np.array(y_pred)\n",
    "chart_regression(y_pred.flatten(),y_test)"
   ]
  },
  {
   "cell_type": "markdown",
   "metadata": {},
   "source": [
    "# 2011-2019"
   ]
  },
  {
   "cell_type": "code",
   "execution_count": 151,
   "metadata": {},
   "outputs": [
    {
     "data": {
      "text/html": [
       "<div>\n",
       "<style scoped>\n",
       "    .dataframe tbody tr th:only-of-type {\n",
       "        vertical-align: middle;\n",
       "    }\n",
       "\n",
       "    .dataframe tbody tr th {\n",
       "        vertical-align: top;\n",
       "    }\n",
       "\n",
       "    .dataframe thead th {\n",
       "        text-align: right;\n",
       "    }\n",
       "</style>\n",
       "<table border=\"1\" class=\"dataframe\">\n",
       "  <thead>\n",
       "    <tr style=\"text-align: right;\">\n",
       "      <th></th>\n",
       "      <th>Company</th>\n",
       "      <th>Year</th>\n",
       "      <th>Records</th>\n",
       "      <th>Organization_type</th>\n",
       "      <th>Method</th>\n",
       "      <th>Breach_Severity</th>\n",
       "    </tr>\n",
       "  </thead>\n",
       "  <tbody>\n",
       "    <tr>\n",
       "      <th>0</th>\n",
       "      <td>Henry Ford Health System</td>\n",
       "      <td>2011</td>\n",
       "      <td>500</td>\n",
       "      <td>organization</td>\n",
       "      <td>hacked</td>\n",
       "      <td>low</td>\n",
       "    </tr>\n",
       "    <tr>\n",
       "      <th>1</th>\n",
       "      <td>VA Corporate Data Center Operations/Austin Inf...</td>\n",
       "      <td>2011</td>\n",
       "      <td>7029</td>\n",
       "      <td>medical</td>\n",
       "      <td>hacked</td>\n",
       "      <td>low</td>\n",
       "    </tr>\n",
       "    <tr>\n",
       "      <th>2</th>\n",
       "      <td>Burlington Northern Santa Fe Group Benefits Plan</td>\n",
       "      <td>2011</td>\n",
       "      <td>507</td>\n",
       "      <td>medical</td>\n",
       "      <td>hacked</td>\n",
       "      <td>low</td>\n",
       "    </tr>\n",
       "    <tr>\n",
       "      <th>3</th>\n",
       "      <td>Graybill Medical Group</td>\n",
       "      <td>2011</td>\n",
       "      <td>1863</td>\n",
       "      <td>medical</td>\n",
       "      <td>hacked</td>\n",
       "      <td>low</td>\n",
       "    </tr>\n",
       "    <tr>\n",
       "      <th>4</th>\n",
       "      <td>Tampa General Hospital</td>\n",
       "      <td>2011</td>\n",
       "      <td>675</td>\n",
       "      <td>medical</td>\n",
       "      <td>hacked</td>\n",
       "      <td>low</td>\n",
       "    </tr>\n",
       "    <tr>\n",
       "      <th>...</th>\n",
       "      <td>...</td>\n",
       "      <td>...</td>\n",
       "      <td>...</td>\n",
       "      <td>...</td>\n",
       "      <td>...</td>\n",
       "      <td>...</td>\n",
       "    </tr>\n",
       "    <tr>\n",
       "      <th>583</th>\n",
       "      <td>Facebook</td>\n",
       "      <td>2019</td>\n",
       "      <td>540000000</td>\n",
       "      <td>tech</td>\n",
       "      <td>hacked</td>\n",
       "      <td>high</td>\n",
       "    </tr>\n",
       "    <tr>\n",
       "      <th>584</th>\n",
       "      <td>ElasticSearch</td>\n",
       "      <td>2019</td>\n",
       "      <td>108000000</td>\n",
       "      <td>tech</td>\n",
       "      <td>hacked</td>\n",
       "      <td>high</td>\n",
       "    </tr>\n",
       "    <tr>\n",
       "      <th>585</th>\n",
       "      <td>Woodruff Arts Center</td>\n",
       "      <td>2019</td>\n",
       "      <td>0</td>\n",
       "      <td>organization</td>\n",
       "      <td>hacked</td>\n",
       "      <td>low</td>\n",
       "    </tr>\n",
       "    <tr>\n",
       "      <th>586</th>\n",
       "      <td>Universiti Teknologi MARA</td>\n",
       "      <td>2019</td>\n",
       "      <td>1164540</td>\n",
       "      <td>organization</td>\n",
       "      <td>hacked</td>\n",
       "      <td>high</td>\n",
       "    </tr>\n",
       "    <tr>\n",
       "      <th>587</th>\n",
       "      <td>Ministry of Health (Singapore)</td>\n",
       "      <td>2019</td>\n",
       "      <td>14200</td>\n",
       "      <td>medical</td>\n",
       "      <td>hacked</td>\n",
       "      <td>medium</td>\n",
       "    </tr>\n",
       "  </tbody>\n",
       "</table>\n",
       "<p>588 rows × 6 columns</p>\n",
       "</div>"
      ],
      "text/plain": [
       "                                               Company  Year    Records  \\\n",
       "0                             Henry Ford Health System  2011        500   \n",
       "1    VA Corporate Data Center Operations/Austin Inf...  2011       7029   \n",
       "2     Burlington Northern Santa Fe Group Benefits Plan  2011        507   \n",
       "3                               Graybill Medical Group  2011       1863   \n",
       "4                               Tampa General Hospital  2011        675   \n",
       "..                                                 ...   ...        ...   \n",
       "583                                           Facebook  2019  540000000   \n",
       "584                                      ElasticSearch  2019  108000000   \n",
       "585                               Woodruff Arts Center  2019          0   \n",
       "586                          Universiti Teknologi MARA  2019    1164540   \n",
       "587                     Ministry of Health (Singapore)  2019      14200   \n",
       "\n",
       "    Organization_type  Method Breach_Severity  \n",
       "0        organization  hacked             low  \n",
       "1             medical  hacked             low  \n",
       "2             medical  hacked             low  \n",
       "3             medical  hacked             low  \n",
       "4             medical  hacked             low  \n",
       "..                ...     ...             ...  \n",
       "583              tech  hacked            high  \n",
       "584              tech  hacked            high  \n",
       "585      organization  hacked             low  \n",
       "586      organization  hacked            high  \n",
       "587           medical  hacked          medium  \n",
       "\n",
       "[588 rows x 6 columns]"
      ]
     },
     "execution_count": 151,
     "metadata": {},
     "output_type": "execute_result"
    }
   ],
   "source": [
    "cyberdataf = pd.read_csv('cydata.csv',encoding='latin-1')\n",
    "cyberdataf = cyberdataf.replace(np.nan, 0, regex=True)\n",
    "cyberdataf['Records'] =cyberdataf['Records'].str.replace(r'[^\\w\\s]+','')\n",
    "cyberdataf['Records'] =cyberdataf['Records'].str.replace(r' ','')\n",
    "cyberdataf['Records']=cyberdataf['Records'].astype('int64')\n",
    "cyberdataf['Organization_type'].replace({'information technology':'tech','Telecoms':'tech','Tech':'tech',' tech':'tech','techmunications':'tech','Airline':'organization','Retail':'organization','Financial':'organization','Education':'organization','academic':'organization','government':'organization','government':'organization','Government':'organization','Hospitality':'organization','mobile carrier':'organization','advertising':'organization','consulting, accounting':'organization','teching':'organization','military':'organization','Healthcare':'medical','App':'Web','Automobile':'Web','Gaming':'Web','Other':'Web'}, inplace=True)\n",
    "cyberdataf[\"Method\"].replace({\"lost\": 'hacked','poor security':'hacked','Hacking/IT Incident':'hacked','Oops':'hacked','Hacked':'hacked','theft':'hacked','Third-party':'hacked','Theft':'hacked','Loss':'hacked','poor security/inside job':'hacked','unsecured S3 bucket':'hacked','Insider Job':'hacked','inside job, hacked':'hacked','poor security / hacked':'hacked','misconfiguration/poor security':'hacked','Unauthorized access':'hacked','lost / stolen media':'it incident','lost / stolen computer':'it incident','Misconfiguration':'it incident','unprotected api':'it incident','accidentally published':'it incident','accidentally uploaded':'it incident','accidentally exposed':'it incident','social engineering':'it incident','data exposed by misconfiguration':'data breach','inside job':'data breach'}, inplace=True)\n",
    "cyberdataf['Organization_type'] = pd.to_numeric(cyberdataf['Organization_type'], errors='ignore')\n",
    "cyberdataf=cyberdataf.iloc[::-1].reset_index(drop=True)\n",
    "cyberdataf['Breach_Severity']= np.where(cyberdataf.Records <=10000, 'low',np.where(cyberdataf.Records <=100000, 'medium','high'))\n",
    "cyberdataf=cyberdataf[cyberdataf.Year <=2019]\n",
    "cyberdataf"
   ]
  },
  {
   "cell_type": "code",
   "execution_count": 152,
   "metadata": {},
   "outputs": [
    {
     "data": {
      "text/plain": [
       "<AxesSubplot:xlabel='Organization_type', ylabel='count'>"
      ]
     },
     "execution_count": 152,
     "metadata": {},
     "output_type": "execute_result"
    },
    {
     "data": {
      "image/png": "[encoded data removed]",
      "text/plain": [
       "<Figure size 1080x720 with 1 Axes>"
      ]
     },
     "metadata": {
      "needs_background": "light"
     },
     "output_type": "display_data"
    }
   ],
   "source": [
    "plt.figure(figsize=(15,10))\n",
    "sns.countplot(x='Organization_type',hue='Breach_Severity',data=cyberdataf,palette='Set1')"
   ]
  },
  {
   "cell_type": "code",
   "execution_count": 153,
   "metadata": {},
   "outputs": [
    {
     "data": {
      "text/plain": [
       "<AxesSubplot:xlabel='Organization_type', ylabel='count'>"
      ]
     },
     "execution_count": 153,
     "metadata": {},
     "output_type": "execute_result"
    },
    {
     "data": {
      "image/png": "[encoded data removed]",
      "text/plain": [
       "<Figure size 1080x720 with 1 Axes>"
      ]
     },
     "metadata": {
      "needs_background": "light"
     },
     "output_type": "display_data"
    }
   ],
   "source": [
    "plt.figure(figsize=(15,10))\n",
    "sns.countplot(x='Organization_type',hue='Method',data=cyberdataf,palette='Set1')"
   ]
  },
  {
   "cell_type": "code",
   "execution_count": 154,
   "metadata": {},
   "outputs": [
    {
     "data": {
      "text/html": [
       "<div>\n",
       "<style scoped>\n",
       "    .dataframe tbody tr th:only-of-type {\n",
       "        vertical-align: middle;\n",
       "    }\n",
       "\n",
       "    .dataframe tbody tr th {\n",
       "        vertical-align: top;\n",
       "    }\n",
       "\n",
       "    .dataframe thead th {\n",
       "        text-align: right;\n",
       "    }\n",
       "</style>\n",
       "<table border=\"1\" class=\"dataframe\">\n",
       "  <thead>\n",
       "    <tr style=\"text-align: right;\">\n",
       "      <th></th>\n",
       "      <th>Company</th>\n",
       "      <th>Year</th>\n",
       "      <th>Records</th>\n",
       "      <th>Organization_type</th>\n",
       "      <th>Method</th>\n",
       "      <th>Breach_Severity</th>\n",
       "    </tr>\n",
       "  </thead>\n",
       "  <tbody>\n",
       "    <tr>\n",
       "      <th>0</th>\n",
       "      <td>Henry Ford Health System</td>\n",
       "      <td>2011</td>\n",
       "      <td>500</td>\n",
       "      <td>1</td>\n",
       "      <td>1</td>\n",
       "      <td>low</td>\n",
       "    </tr>\n",
       "    <tr>\n",
       "      <th>1</th>\n",
       "      <td>VA Corporate Data Center Operations/Austin Inf...</td>\n",
       "      <td>2011</td>\n",
       "      <td>7029</td>\n",
       "      <td>0</td>\n",
       "      <td>1</td>\n",
       "      <td>low</td>\n",
       "    </tr>\n",
       "    <tr>\n",
       "      <th>2</th>\n",
       "      <td>Burlington Northern Santa Fe Group Benefits Plan</td>\n",
       "      <td>2011</td>\n",
       "      <td>507</td>\n",
       "      <td>0</td>\n",
       "      <td>1</td>\n",
       "      <td>low</td>\n",
       "    </tr>\n",
       "    <tr>\n",
       "      <th>3</th>\n",
       "      <td>Graybill Medical Group</td>\n",
       "      <td>2011</td>\n",
       "      <td>1863</td>\n",
       "      <td>0</td>\n",
       "      <td>1</td>\n",
       "      <td>low</td>\n",
       "    </tr>\n",
       "    <tr>\n",
       "      <th>4</th>\n",
       "      <td>Tampa General Hospital</td>\n",
       "      <td>2011</td>\n",
       "      <td>675</td>\n",
       "      <td>0</td>\n",
       "      <td>1</td>\n",
       "      <td>low</td>\n",
       "    </tr>\n",
       "    <tr>\n",
       "      <th>...</th>\n",
       "      <td>...</td>\n",
       "      <td>...</td>\n",
       "      <td>...</td>\n",
       "      <td>...</td>\n",
       "      <td>...</td>\n",
       "      <td>...</td>\n",
       "    </tr>\n",
       "    <tr>\n",
       "      <th>583</th>\n",
       "      <td>Facebook</td>\n",
       "      <td>2019</td>\n",
       "      <td>540000000</td>\n",
       "      <td>2</td>\n",
       "      <td>1</td>\n",
       "      <td>high</td>\n",
       "    </tr>\n",
       "    <tr>\n",
       "      <th>584</th>\n",
       "      <td>ElasticSearch</td>\n",
       "      <td>2019</td>\n",
       "      <td>108000000</td>\n",
       "      <td>2</td>\n",
       "      <td>1</td>\n",
       "      <td>high</td>\n",
       "    </tr>\n",
       "    <tr>\n",
       "      <th>585</th>\n",
       "      <td>Woodruff Arts Center</td>\n",
       "      <td>2019</td>\n",
       "      <td>0</td>\n",
       "      <td>1</td>\n",
       "      <td>1</td>\n",
       "      <td>low</td>\n",
       "    </tr>\n",
       "    <tr>\n",
       "      <th>586</th>\n",
       "      <td>Universiti Teknologi MARA</td>\n",
       "      <td>2019</td>\n",
       "      <td>1164540</td>\n",
       "      <td>1</td>\n",
       "      <td>1</td>\n",
       "      <td>high</td>\n",
       "    </tr>\n",
       "    <tr>\n",
       "      <th>587</th>\n",
       "      <td>Ministry of Health (Singapore)</td>\n",
       "      <td>2019</td>\n",
       "      <td>14200</td>\n",
       "      <td>0</td>\n",
       "      <td>1</td>\n",
       "      <td>medium</td>\n",
       "    </tr>\n",
       "  </tbody>\n",
       "</table>\n",
       "<p>588 rows × 6 columns</p>\n",
       "</div>"
      ],
      "text/plain": [
       "                                               Company  Year    Records  \\\n",
       "0                             Henry Ford Health System  2011        500   \n",
       "1    VA Corporate Data Center Operations/Austin Inf...  2011       7029   \n",
       "2     Burlington Northern Santa Fe Group Benefits Plan  2011        507   \n",
       "3                               Graybill Medical Group  2011       1863   \n",
       "4                               Tampa General Hospital  2011        675   \n",
       "..                                                 ...   ...        ...   \n",
       "583                                           Facebook  2019  540000000   \n",
       "584                                      ElasticSearch  2019  108000000   \n",
       "585                               Woodruff Arts Center  2019          0   \n",
       "586                          Universiti Teknologi MARA  2019    1164540   \n",
       "587                     Ministry of Health (Singapore)  2019      14200   \n",
       "\n",
       "     Organization_type  Method Breach_Severity  \n",
       "0                    1       1             low  \n",
       "1                    0       1             low  \n",
       "2                    0       1             low  \n",
       "3                    0       1             low  \n",
       "4                    0       1             low  \n",
       "..                 ...     ...             ...  \n",
       "583                  2       1            high  \n",
       "584                  2       1            high  \n",
       "585                  1       1             low  \n",
       "586                  1       1            high  \n",
       "587                  0       1          medium  \n",
       "\n",
       "[588 rows x 6 columns]"
      ]
     },
     "execution_count": 154,
     "metadata": {},
     "output_type": "execute_result"
    }
   ],
   "source": [
    "le=LabelEncoder()\n",
    "cyberdataf['Organization_type']=le.fit_transform(cyberdataf['Organization_type'])\n",
    "cyberdataf['Method']=le.fit_transform(cyberdataf['Method'])\n",
    "cyberdataf"
   ]
  },
  {
   "cell_type": "markdown",
   "metadata": {},
   "source": [
    "# DT"
   ]
  },
  {
   "cell_type": "code",
   "execution_count": 155,
   "metadata": {},
   "outputs": [
    {
     "data": {
      "text/plain": [
       "array(['high', 'high', 'low', 'medium', 'low', 'low', 'low', 'low', 'low',\n",
       "       'low', 'medium', 'medium', 'high', 'medium', 'low', 'medium',\n",
       "       'high', 'low', 'low', 'low', 'low', 'low', 'low', 'high', 'low',\n",
       "       'low', 'low', 'high', 'high', 'low', 'high', 'high', 'medium',\n",
       "       'low', 'low', 'low', 'high', 'medium', 'medium', 'low', 'low',\n",
       "       'low', 'medium', 'low', 'low', 'high', 'high', 'medium', 'low',\n",
       "       'low', 'high', 'low', 'low', 'medium', 'low', 'high', 'high',\n",
       "       'low', 'low', 'low', 'high', 'high', 'low', 'low', 'high',\n",
       "       'medium', 'high', 'high', 'low', 'low', 'high', 'low', 'low',\n",
       "       'high', 'low', 'low', 'low', 'high', 'high', 'medium', 'low',\n",
       "       'high', 'low', 'high', 'low', 'high', 'low', 'low', 'high', 'low',\n",
       "       'high', 'medium', 'low', 'high', 'high', 'low', 'low', 'low',\n",
       "       'low', 'high', 'high', 'medium', 'high', 'high', 'low', 'medium',\n",
       "       'high', 'high', 'low', 'low', 'low', 'medium', 'low', 'low',\n",
       "       'high', 'high', 'medium', 'high', 'medium', 'low', 'low', 'medium',\n",
       "       'low', 'medium', 'high', 'high', 'medium', 'low', 'low', 'medium',\n",
       "       'low', 'medium', 'low', 'high', 'high', 'low', 'low', 'low', 'low',\n",
       "       'low', 'low', 'low', 'medium', 'low', 'low', 'low', 'low',\n",
       "       'medium', 'high', 'medium', 'high', 'low', 'low', 'medium', 'high',\n",
       "       'medium', 'low', 'low', 'low', 'low', 'high', 'high', 'low', 'low',\n",
       "       'medium', 'high', 'high', 'low', 'low', 'low', 'high', 'medium',\n",
       "       'high', 'medium', 'medium', 'low', 'low'], dtype=object)"
      ]
     },
     "execution_count": 155,
     "metadata": {},
     "output_type": "execute_result"
    }
   ],
   "source": [
    "x=cyberdataf.iloc[:,[1,2,3,4]]\n",
    "y=cyberdataf.iloc[:, 5]\n",
    "from sklearn.model_selection import train_test_split\n",
    "x_train,x_test,y_train,y_test=train_test_split(x,y,test_size=0.3,random_state = 10)\n",
    "dtree = DecisionTreeClassifier()\n",
    "dtree.fit(x_train,y_train)\n",
    "y_pred=dtree.predict(x_test)\n",
    "y_pred"
   ]
  },
  {
   "cell_type": "code",
   "execution_count": 156,
   "metadata": {},
   "outputs": [
    {
     "data": {
      "text/plain": [
       "0.9774011299435028"
      ]
     },
     "execution_count": 156,
     "metadata": {},
     "output_type": "execute_result"
    }
   ],
   "source": [
    "from sklearn.metrics import accuracy_score\n",
    "acc=accuracy_score(y_test, y_pred)\n",
    "acc"
   ]
  },
  {
   "cell_type": "code",
   "execution_count": 157,
   "metadata": {},
   "outputs": [],
   "source": [
    "def chart_regression(pred,y,sort=True):\n",
    "    t=pd.DataFrame({'pred':pred,'y':y.flatten()})\n",
    "    if sort:\n",
    "        t.sort_values(by=['y'],inplace=True)\n",
    "    plt.plot(t['y'].tolist(),label='execpted')\n",
    "    plt.plot(t['pred'].tolist(),label='prediction')\n",
    "    plt.ylabel('OUTPUT')\n",
    "    plt.legend()\n",
    "    plt.show()"
   ]
  },
  {
   "cell_type": "code",
   "execution_count": 158,
   "metadata": {},
   "outputs": [
    {
     "data": {
      "image/png": "[encoded data removed]",
      "text/plain": [
       "<Figure size 432x288 with 1 Axes>"
      ]
     },
     "metadata": {
      "needs_background": "light"
     },
     "output_type": "display_data"
    }
   ],
   "source": [
    "y_test = np.array(list(y_test))\n",
    "y_pred = np.array(y_pred)\n",
    "chart_regression(y_pred.flatten(),y_test)"
   ]
  },
  {
   "cell_type": "markdown",
   "metadata": {},
   "source": [
    "# RF"
   ]
  },
  {
   "cell_type": "code",
   "execution_count": 159,
   "metadata": {},
   "outputs": [
    {
     "data": {
      "text/plain": [
       "array(['high', 'high', 'low', 'medium', 'low', 'low', 'low', 'low', 'low',\n",
       "       'low', 'medium', 'medium', 'high', 'medium', 'low', 'medium',\n",
       "       'high', 'low', 'low', 'low', 'low', 'low', 'low', 'high', 'low',\n",
       "       'low', 'low', 'high', 'high', 'low', 'high', 'high', 'medium',\n",
       "       'low', 'low', 'low', 'high', 'medium', 'medium', 'low', 'low',\n",
       "       'low', 'medium', 'low', 'low', 'high', 'high', 'medium', 'low',\n",
       "       'low', 'high', 'low', 'low', 'medium', 'low', 'high', 'high',\n",
       "       'low', 'low', 'low', 'high', 'high', 'low', 'low', 'high',\n",
       "       'medium', 'high', 'high', 'low', 'low', 'high', 'low', 'low',\n",
       "       'high', 'low', 'low', 'low', 'high', 'high', 'medium', 'low',\n",
       "       'high', 'low', 'high', 'low', 'high', 'low', 'low', 'high', 'low',\n",
       "       'high', 'medium', 'low', 'high', 'high', 'low', 'low', 'low',\n",
       "       'low', 'high', 'high', 'medium', 'high', 'high', 'low', 'medium',\n",
       "       'high', 'high', 'low', 'low', 'low', 'medium', 'low', 'low',\n",
       "       'high', 'high', 'medium', 'high', 'medium', 'low', 'low', 'medium',\n",
       "       'low', 'medium', 'high', 'high', 'medium', 'low', 'low', 'medium',\n",
       "       'low', 'medium', 'low', 'high', 'high', 'low', 'low', 'low', 'low',\n",
       "       'low', 'low', 'low', 'medium', 'low', 'low', 'low', 'low', 'low',\n",
       "       'high', 'medium', 'high', 'low', 'low', 'medium', 'high', 'medium',\n",
       "       'low', 'low', 'low', 'low', 'high', 'high', 'low', 'low', 'medium',\n",
       "       'high', 'high', 'low', 'low', 'low', 'high', 'medium', 'high',\n",
       "       'medium', 'medium', 'low', 'low'], dtype=object)"
      ]
     },
     "execution_count": 159,
     "metadata": {},
     "output_type": "execute_result"
    }
   ],
   "source": [
    "x=cyberdataf.iloc[:,[1,2,3,4]]\n",
    "y=cyberdataf.iloc[:, 5]\n",
    "from sklearn.model_selection import train_test_split\n",
    "x_train,x_test,y_train,y_test=train_test_split(x,y,test_size=0.3,random_state = 10)\n",
    "from sklearn.ensemble import RandomForestRegressor\n",
    "rfc = RandomForestClassifier(n_estimators=100)\n",
    "rfc.fit(x_train,y_train)\n",
    "y_pred=rfc.predict(x_test)\n",
    "y_pred"
   ]
  },
  {
   "cell_type": "code",
   "execution_count": 160,
   "metadata": {},
   "outputs": [
    {
     "data": {
      "text/plain": [
       "0.9717514124293786"
      ]
     },
     "execution_count": 160,
     "metadata": {},
     "output_type": "execute_result"
    }
   ],
   "source": [
    "from sklearn.metrics import accuracy_score\n",
    "acc=accuracy_score(y_test, y_pred)\n",
    "acc"
   ]
  },
  {
   "cell_type": "code",
   "execution_count": 161,
   "metadata": {},
   "outputs": [],
   "source": [
    "def chart_regression(pred,y,sort=True):\n",
    "    t=pd.DataFrame({'pred':pred,'y':y.flatten()})\n",
    "    if sort:\n",
    "        t.sort_values(by=['y'],inplace=True)\n",
    "    plt.plot(t['y'].tolist(),label='execpted')\n",
    "    plt.plot(t['pred'].tolist(),label='prediction')\n",
    "    plt.ylabel('OUTPUT')\n",
    "    plt.legend()\n",
    "    plt.show()"
   ]
  },
  {
   "cell_type": "code",
   "execution_count": 162,
   "metadata": {},
   "outputs": [
    {
     "data": {
      "image/png": "[encoded data removed]",
      "text/plain": [
       "<Figure size 432x288 with 1 Axes>"
      ]
     },
     "metadata": {
      "needs_background": "light"
     },
     "output_type": "display_data"
    }
   ],
   "source": [
    "y_test = np.array(list(y_test))\n",
    "y_pred = np.array(y_pred)\n",
    "chart_regression(y_pred.flatten(),y_test)"
   ]
  },
  {
   "cell_type": "markdown",
   "metadata": {},
   "source": [
    "# NB"
   ]
  },
  {
   "cell_type": "code",
   "execution_count": 163,
   "metadata": {},
   "outputs": [
    {
     "data": {
      "text/plain": [
       "array(['high', 'high', 'low', 'medium', 'low', 'low', 'low', 'low', 'low',\n",
       "       'low', 'medium', 'low', 'high', 'medium', 'low', 'medium', 'high',\n",
       "       'low', 'low', 'low', 'low', 'low', 'low', 'high', 'low', 'low',\n",
       "       'low', 'high', 'high', 'low', 'high', 'high', 'low', 'low', 'low',\n",
       "       'low', 'high', 'low', 'medium', 'low', 'low', 'low', 'medium',\n",
       "       'low', 'low', 'medium', 'high', 'low', 'low', 'low', 'high', 'low',\n",
       "       'low', 'medium', 'low', 'high', 'high', 'low', 'low', 'low',\n",
       "       'high', 'high', 'low', 'low', 'high', 'medium', 'high', 'high',\n",
       "       'low', 'low', 'high', 'low', 'low', 'high', 'low', 'low', 'low',\n",
       "       'high', 'high', 'low', 'low', 'high', 'low', 'high', 'low', 'high',\n",
       "       'low', 'low', 'high', 'low', 'high', 'medium', 'low', 'high',\n",
       "       'high', 'low', 'low', 'low', 'low', 'high', 'high', 'low', 'high',\n",
       "       'high', 'low', 'low', 'high', 'high', 'low', 'low', 'low',\n",
       "       'medium', 'low', 'low', 'high', 'high', 'medium', 'high', 'low',\n",
       "       'low', 'low', 'medium', 'low', 'low', 'high', 'high', 'low', 'low',\n",
       "       'low', 'medium', 'low', 'medium', 'low', 'high', 'high', 'low',\n",
       "       'low', 'low', 'low', 'low', 'low', 'low', 'medium', 'low', 'low',\n",
       "       'low', 'low', 'low', 'high', 'medium', 'high', 'low', 'low',\n",
       "       'medium', 'high', 'low', 'low', 'low', 'low', 'low', 'high',\n",
       "       'high', 'low', 'low', 'medium', 'high', 'high', 'low', 'low',\n",
       "       'low', 'high', 'medium', 'high', 'low', 'medium', 'low', 'low'],\n",
       "      dtype='<U6')"
      ]
     },
     "execution_count": 163,
     "metadata": {},
     "output_type": "execute_result"
    }
   ],
   "source": [
    "x=cyberdataf.iloc[:,[1,2,3,4]]\n",
    "y=cyberdataf.iloc[:, 5]\n",
    "from sklearn.model_selection import train_test_split\n",
    "x_train,x_test,y_train,y_test=train_test_split(x,y,test_size=0.3,random_state = 10)\n",
    "from sklearn.naive_bayes import GaussianNB\n",
    "model = GaussianNB()\n",
    "model.fit(x_train, y_train)\n",
    "y_pred = model.predict(x_test)\n",
    "y_pred"
   ]
  },
  {
   "cell_type": "code",
   "execution_count": 164,
   "metadata": {},
   "outputs": [
    {
     "data": {
      "text/plain": [
       "0.8983050847457628"
      ]
     },
     "execution_count": 164,
     "metadata": {},
     "output_type": "execute_result"
    }
   ],
   "source": [
    "from sklearn.metrics import accuracy_score\n",
    "acc=accuracy_score(y_test, y_pred)\n",
    "acc"
   ]
  },
  {
   "cell_type": "code",
   "execution_count": 165,
   "metadata": {},
   "outputs": [],
   "source": [
    "def chart_regression(pred,y,sort=True):\n",
    "    t=pd.DataFrame({'pred':pred,'y':y.flatten()})\n",
    "    if sort:\n",
    "        t.sort_values(by=['y'],inplace=True)\n",
    "    plt.plot(t['y'].tolist(),label='execpted')\n",
    "    plt.plot(t['pred'].tolist(),label='prediction')\n",
    "    plt.ylabel('OUTPUT')\n",
    "    plt.legend()\n",
    "    plt.show()"
   ]
  },
  {
   "cell_type": "code",
   "execution_count": 166,
   "metadata": {},
   "outputs": [
    {
     "data": {
      "image/png": "[encoded data removed]",
      "text/plain": [
       "<Figure size 432x288 with 1 Axes>"
      ]
     },
     "metadata": {
      "needs_background": "light"
     },
     "output_type": "display_data"
    }
   ],
   "source": [
    "y_test = np.array(list(y_test))\n",
    "y_pred = np.array(y_pred)\n",
    "chart_regression(y_pred.flatten(),y_test)"
   ]
  },
  {
   "cell_type": "markdown",
   "metadata": {},
   "source": [
    "# KNN"
   ]
  },
  {
   "cell_type": "code",
   "execution_count": 167,
   "metadata": {},
   "outputs": [
    {
     "data": {
      "text/plain": [
       "array(['high', 'high', 'low', 'medium', 'low', 'low', 'low', 'low', 'low',\n",
       "       'low', 'medium', 'medium', 'high', 'medium', 'low', 'medium',\n",
       "       'high', 'low', 'low', 'low', 'low', 'low', 'low', 'high', 'low',\n",
       "       'low', 'low', 'high', 'high', 'low', 'high', 'high', 'medium',\n",
       "       'low', 'low', 'low', 'high', 'medium', 'medium', 'low', 'low',\n",
       "       'low', 'medium', 'low', 'low', 'high', 'high', 'medium', 'low',\n",
       "       'low', 'high', 'low', 'low', 'medium', 'low', 'high', 'high',\n",
       "       'low', 'low', 'low', 'high', 'high', 'low', 'low', 'high',\n",
       "       'medium', 'high', 'high', 'low', 'low', 'high', 'low', 'low',\n",
       "       'high', 'low', 'low', 'low', 'high', 'high', 'low', 'low', 'high',\n",
       "       'low', 'high', 'low', 'high', 'low', 'low', 'high', 'low', 'high',\n",
       "       'medium', 'low', 'high', 'high', 'low', 'low', 'low', 'low',\n",
       "       'high', 'high', 'medium', 'high', 'high', 'low', 'low', 'high',\n",
       "       'high', 'low', 'low', 'low', 'medium', 'low', 'low', 'high',\n",
       "       'high', 'medium', 'high', 'medium', 'low', 'low', 'medium', 'low',\n",
       "       'low', 'high', 'high', 'medium', 'low', 'low', 'medium', 'low',\n",
       "       'medium', 'low', 'high', 'high', 'low', 'low', 'low', 'low', 'low',\n",
       "       'low', 'low', 'medium', 'low', 'low', 'low', 'low', 'low', 'high',\n",
       "       'medium', 'high', 'low', 'low', 'medium', 'high', 'medium', 'low',\n",
       "       'low', 'low', 'low', 'high', 'high', 'low', 'low', 'medium',\n",
       "       'high', 'high', 'low', 'low', 'low', 'high', 'medium', 'high',\n",
       "       'medium', 'medium', 'low', 'low'], dtype=object)"
      ]
     },
     "execution_count": 167,
     "metadata": {},
     "output_type": "execute_result"
    }
   ],
   "source": [
    "x=cyberdataf.iloc[:,[1,2,3,4]]\n",
    "y=cyberdataf.iloc[:, 5]\n",
    "from sklearn.model_selection import train_test_split\n",
    "x_train,x_test,y_train,y_test=train_test_split(x,y,test_size=0.3,random_state = 10)\n",
    "from sklearn.neighbors import KNeighborsClassifier\n",
    "kn = KNeighborsClassifier()\n",
    "kn.fit(x_train,y_train)\n",
    "y_pred = kn.predict(x_test)\n",
    "y_pred"
   ]
  },
  {
   "cell_type": "code",
   "execution_count": 168,
   "metadata": {},
   "outputs": [
    {
     "data": {
      "text/plain": [
       "0.9548022598870056"
      ]
     },
     "execution_count": 168,
     "metadata": {},
     "output_type": "execute_result"
    }
   ],
   "source": [
    "from sklearn.metrics import accuracy_score\n",
    "acc=accuracy_score(y_test, y_pred)\n",
    "acc"
   ]
  },
  {
   "cell_type": "code",
   "execution_count": 169,
   "metadata": {},
   "outputs": [],
   "source": [
    "def chart_regression(pred,y,sort=True):\n",
    "    t=pd.DataFrame({'pred':pred,'y':y.flatten()})\n",
    "    if sort:\n",
    "        t.sort_values(by=['y'],inplace=True)\n",
    "    plt.plot(t['y'].tolist(),label='execpted')\n",
    "    plt.plot(t['pred'].tolist(),label='prediction')\n",
    "    plt.ylabel('OUTPUT')\n",
    "    plt.legend()\n",
    "    plt.show()"
   ]
  },
  {
   "cell_type": "code",
   "execution_count": 170,
   "metadata": {},
   "outputs": [
    {
     "data": {
      "image/png": "[encoded data removed]",
      "text/plain": [
       "<Figure size 432x288 with 1 Axes>"
      ]
     },
     "metadata": {
      "needs_background": "light"
     },
     "output_type": "display_data"
    }
   ],
   "source": [
    "y_test = np.array(list(y_test))\n",
    "y_pred = np.array(y_pred)\n",
    "chart_regression(y_pred.flatten(),y_test)"
   ]
  },
  {
   "cell_type": "markdown",
   "metadata": {},
   "source": [
    "# Ada"
   ]
  },
  {
   "cell_type": "code",
   "execution_count": 171,
   "metadata": {},
   "outputs": [
    {
     "data": {
      "text/plain": [
       "array(['high', 'high', 'low', 'medium', 'low', 'low', 'low', 'low', 'low',\n",
       "       'low', 'medium', 'medium', 'high', 'medium', 'low', 'medium',\n",
       "       'high', 'low', 'low', 'low', 'low', 'low', 'low', 'high', 'low',\n",
       "       'low', 'low', 'high', 'high', 'low', 'high', 'high', 'medium',\n",
       "       'low', 'low', 'low', 'high', 'medium', 'medium', 'low', 'low',\n",
       "       'low', 'medium', 'low', 'low', 'high', 'high', 'medium', 'low',\n",
       "       'low', 'high', 'low', 'low', 'medium', 'low', 'high', 'high',\n",
       "       'low', 'low', 'low', 'high', 'high', 'low', 'low', 'high',\n",
       "       'medium', 'high', 'high', 'low', 'low', 'high', 'low', 'low',\n",
       "       'high', 'low', 'low', 'low', 'high', 'high', 'medium', 'low',\n",
       "       'high', 'low', 'high', 'low', 'high', 'low', 'low', 'high', 'low',\n",
       "       'high', 'medium', 'low', 'high', 'high', 'low', 'low', 'low',\n",
       "       'low', 'high', 'high', 'medium', 'high', 'high', 'low', 'medium',\n",
       "       'high', 'high', 'low', 'low', 'low', 'medium', 'low', 'low',\n",
       "       'high', 'high', 'medium', 'high', 'medium', 'low', 'low', 'medium',\n",
       "       'low', 'medium', 'high', 'high', 'medium', 'low', 'low', 'medium',\n",
       "       'low', 'medium', 'low', 'high', 'high', 'low', 'low', 'low', 'low',\n",
       "       'low', 'low', 'low', 'medium', 'low', 'low', 'low', 'low',\n",
       "       'medium', 'high', 'medium', 'high', 'low', 'low', 'medium', 'high',\n",
       "       'medium', 'low', 'low', 'low', 'low', 'high', 'high', 'low', 'low',\n",
       "       'medium', 'high', 'high', 'low', 'low', 'low', 'high', 'medium',\n",
       "       'high', 'medium', 'medium', 'low', 'low'], dtype=object)"
      ]
     },
     "execution_count": 171,
     "metadata": {},
     "output_type": "execute_result"
    }
   ],
   "source": [
    "x=cyberdataf.iloc[:,[1,2,3,4]]\n",
    "y=cyberdataf.iloc[:, 5]\n",
    "from sklearn.model_selection import train_test_split\n",
    "x_train,x_test,y_train,y_test=train_test_split(x,y,test_size=0.3,random_state = 10)\n",
    "from sklearn.ensemble import AdaBoostClassifier\n",
    "abc = AdaBoostClassifier(n_estimators=100,learning_rate=1)\n",
    "model = abc.fit(x_train, y_train)\n",
    "y_pred = model.predict(x_test)\n",
    "y_pred"
   ]
  },
  {
   "cell_type": "code",
   "execution_count": 172,
   "metadata": {},
   "outputs": [
    {
     "data": {
      "text/plain": [
       "0.9774011299435028"
      ]
     },
     "execution_count": 172,
     "metadata": {},
     "output_type": "execute_result"
    }
   ],
   "source": [
    "from sklearn.metrics import accuracy_score\n",
    "acc=accuracy_score(y_test, y_pred)\n",
    "acc"
   ]
  },
  {
   "cell_type": "code",
   "execution_count": 173,
   "metadata": {},
   "outputs": [],
   "source": [
    "def chart_regression(pred,y,sort=True):\n",
    "    t=pd.DataFrame({'pred':pred,'y':y.flatten()})\n",
    "    if sort:\n",
    "        t.sort_values(by=['y'],inplace=True)\n",
    "    plt.plot(t['y'].tolist(),label='execpted')\n",
    "    plt.plot(t['pred'].tolist(),label='prediction')\n",
    "    plt.ylabel('OUTPUT')\n",
    "    plt.legend()\n",
    "    plt.show()"
   ]
  },
  {
   "cell_type": "code",
   "execution_count": 174,
   "metadata": {},
   "outputs": [
    {
     "data": {
      "image/png": "[encoded data removed]",
      "text/plain": [
       "<Figure size 432x288 with 1 Axes>"
      ]
     },
     "metadata": {
      "needs_background": "light"
     },
     "output_type": "display_data"
    }
   ],
   "source": [
    "y_test = np.array(list(y_test))\n",
    "y_pred = np.array(y_pred)\n",
    "chart_regression(y_pred.flatten(),y_test)"
   ]
  },
  {
   "cell_type": "markdown",
   "metadata": {},
   "source": [
    "# LR"
   ]
  },
  {
   "cell_type": "code",
   "execution_count": 175,
   "metadata": {},
   "outputs": [
    {
     "data": {
      "text/plain": [
       "array(['high', 'high', 'low', 'medium', 'low', 'low', 'low', 'low', 'low',\n",
       "       'low', 'medium', 'medium', 'high', 'medium', 'low', 'medium',\n",
       "       'high', 'low', 'low', 'low', 'low', 'low', 'low', 'high', 'low',\n",
       "       'low', 'low', 'high', 'high', 'low', 'high', 'high', 'medium',\n",
       "       'low', 'low', 'low', 'high', 'medium', 'medium', 'low', 'low',\n",
       "       'low', 'medium', 'low', 'low', 'high', 'high', 'medium', 'low',\n",
       "       'low', 'high', 'low', 'low', 'medium', 'low', 'high', 'high',\n",
       "       'low', 'low', 'low', 'high', 'high', 'low', 'low', 'high',\n",
       "       'medium', 'high', 'high', 'low', 'low', 'high', 'low', 'low',\n",
       "       'high', 'low', 'low', 'low', 'high', 'high', 'medium', 'low',\n",
       "       'high', 'low', 'high', 'low', 'high', 'low', 'low', 'high', 'low',\n",
       "       'high', 'medium', 'low', 'high', 'high', 'low', 'low', 'low',\n",
       "       'low', 'high', 'high', 'medium', 'high', 'high', 'low', 'medium',\n",
       "       'high', 'high', 'low', 'low', 'low', 'medium', 'low', 'low',\n",
       "       'high', 'high', 'medium', 'high', 'medium', 'low', 'low', 'medium',\n",
       "       'low', 'medium', 'high', 'high', 'medium', 'low', 'low', 'medium',\n",
       "       'low', 'medium', 'low', 'high', 'high', 'low', 'low', 'low', 'low',\n",
       "       'low', 'low', 'low', 'medium', 'low', 'low', 'low', 'low', 'low',\n",
       "       'high', 'medium', 'high', 'low', 'low', 'medium', 'high', 'medium',\n",
       "       'low', 'low', 'low', 'low', 'high', 'high', 'low', 'low', 'medium',\n",
       "       'high', 'high', 'low', 'low', 'low', 'high', 'medium', 'high',\n",
       "       'medium', 'medium', 'low', 'low'], dtype=object)"
      ]
     },
     "execution_count": 175,
     "metadata": {},
     "output_type": "execute_result"
    }
   ],
   "source": [
    "x=cyberdataf.iloc[:,[1,2,3,4]]\n",
    "y=cyberdataf.iloc[:, 5]\n",
    "from sklearn.model_selection import train_test_split\n",
    "x_train,x_test,y_train,y_test=train_test_split(x,y,test_size=0.3,random_state = 10)\n",
    "from sklearn.linear_model import LogisticRegression\n",
    "classifier = LogisticRegression()\n",
    "classifier.fit(x_train,y_train)\n",
    "y_pred = classifier.predict(x_test)\n",
    "y_pred"
   ]
  },
  {
   "cell_type": "code",
   "execution_count": 176,
   "metadata": {},
   "outputs": [
    {
     "data": {
      "text/plain": [
       "0.9717514124293786"
      ]
     },
     "execution_count": 176,
     "metadata": {},
     "output_type": "execute_result"
    }
   ],
   "source": [
    "from sklearn.metrics import accuracy_score\n",
    "acc=accuracy_score(y_test, y_pred)\n",
    "acc"
   ]
  },
  {
   "cell_type": "code",
   "execution_count": 177,
   "metadata": {},
   "outputs": [],
   "source": [
    "def chart_regression(pred,y,sort=True):\n",
    "    t=pd.DataFrame({'pred':pred,'y':y.flatten()})\n",
    "    if sort:\n",
    "        t.sort_values(by=['y'],inplace=True)\n",
    "    plt.plot(t['y'].tolist(),label='execpted')\n",
    "    plt.plot(t['pred'].tolist(),label='prediction')\n",
    "    plt.ylabel('OUTPUT')\n",
    "    plt.legend()\n",
    "    plt.show()"
   ]
  },
  {
   "cell_type": "code",
   "execution_count": 178,
   "metadata": {},
   "outputs": [
    {
     "data": {
      "image/png": "[encoded data removed]",
      "text/plain": [
       "<Figure size 432x288 with 1 Axes>"
      ]
     },
     "metadata": {
      "needs_background": "light"
     },
     "output_type": "display_data"
    }
   ],
   "source": [
    "y_test = np.array(list(y_test))\n",
    "y_pred = np.array(y_pred)\n",
    "chart_regression(y_pred.flatten(),y_test)"
   ]
  },
  {
   "cell_type": "markdown",
   "metadata": {},
   "source": [
    "# 2020"
   ]
  },
  {
   "cell_type": "code",
   "execution_count": 179,
   "metadata": {},
   "outputs": [
    {
     "data": {
      "text/html": [
       "<div>\n",
       "<style scoped>\n",
       "    .dataframe tbody tr th:only-of-type {\n",
       "        vertical-align: middle;\n",
       "    }\n",
       "\n",
       "    .dataframe tbody tr th {\n",
       "        vertical-align: top;\n",
       "    }\n",
       "\n",
       "    .dataframe thead th {\n",
       "        text-align: right;\n",
       "    }\n",
       "</style>\n",
       "<table border=\"1\" class=\"dataframe\">\n",
       "  <thead>\n",
       "    <tr style=\"text-align: right;\">\n",
       "      <th></th>\n",
       "      <th>Company</th>\n",
       "      <th>Year</th>\n",
       "      <th>Records</th>\n",
       "      <th>Organization_type</th>\n",
       "      <th>Method</th>\n",
       "      <th>Breach_Severity</th>\n",
       "    </tr>\n",
       "  </thead>\n",
       "  <tbody>\n",
       "    <tr>\n",
       "      <th>588</th>\n",
       "      <td>Saint Louis County Department of Health</td>\n",
       "      <td>2020</td>\n",
       "      <td>4000</td>\n",
       "      <td>medical</td>\n",
       "      <td>hacked</td>\n",
       "      <td>low</td>\n",
       "    </tr>\n",
       "    <tr>\n",
       "      <th>589</th>\n",
       "      <td>Northwestern Memorial HealthCare</td>\n",
       "      <td>2020</td>\n",
       "      <td>16025</td>\n",
       "      <td>organization</td>\n",
       "      <td>hacked</td>\n",
       "      <td>medium</td>\n",
       "    </tr>\n",
       "    <tr>\n",
       "      <th>590</th>\n",
       "      <td>Mercy Medical Center Redding - Oncology Clinic...</td>\n",
       "      <td>2020</td>\n",
       "      <td>21000</td>\n",
       "      <td>medical</td>\n",
       "      <td>hacked</td>\n",
       "      <td>medium</td>\n",
       "    </tr>\n",
       "    <tr>\n",
       "      <th>591</th>\n",
       "      <td>Walgreen Co.</td>\n",
       "      <td>2020</td>\n",
       "      <td>160000</td>\n",
       "      <td>organization</td>\n",
       "      <td>hacked</td>\n",
       "      <td>high</td>\n",
       "    </tr>\n",
       "    <tr>\n",
       "      <th>592</th>\n",
       "      <td>Clay County Hospital</td>\n",
       "      <td>2020</td>\n",
       "      <td>12621</td>\n",
       "      <td>medical</td>\n",
       "      <td>hacked</td>\n",
       "      <td>medium</td>\n",
       "    </tr>\n",
       "    <tr>\n",
       "      <th>...</th>\n",
       "      <td>...</td>\n",
       "      <td>...</td>\n",
       "      <td>...</td>\n",
       "      <td>...</td>\n",
       "      <td>...</td>\n",
       "      <td>...</td>\n",
       "    </tr>\n",
       "    <tr>\n",
       "      <th>1126</th>\n",
       "      <td>AgusiQ-Torrents.pl</td>\n",
       "      <td>2020</td>\n",
       "      <td>9047800</td>\n",
       "      <td>Web</td>\n",
       "      <td>hacked</td>\n",
       "      <td>high</td>\n",
       "    </tr>\n",
       "    <tr>\n",
       "      <th>1127</th>\n",
       "      <td>Adobe Inc.</td>\n",
       "      <td>2020</td>\n",
       "      <td>750000000</td>\n",
       "      <td>tech</td>\n",
       "      <td>it incident</td>\n",
       "      <td>high</td>\n",
       "    </tr>\n",
       "    <tr>\n",
       "      <th>1128</th>\n",
       "      <td>3fun</td>\n",
       "      <td>2020</td>\n",
       "      <td>150000000</td>\n",
       "      <td>Web</td>\n",
       "      <td>it incident</td>\n",
       "      <td>high</td>\n",
       "    </tr>\n",
       "    <tr>\n",
       "      <th>1129</th>\n",
       "      <td>1to1help</td>\n",
       "      <td>2020</td>\n",
       "      <td>30000000</td>\n",
       "      <td>medical</td>\n",
       "      <td>it incident</td>\n",
       "      <td>high</td>\n",
       "    </tr>\n",
       "    <tr>\n",
       "      <th>1130</th>\n",
       "      <td>1177 Care Guide</td>\n",
       "      <td>2020</td>\n",
       "      <td>270000000</td>\n",
       "      <td>medical</td>\n",
       "      <td>hacked</td>\n",
       "      <td>high</td>\n",
       "    </tr>\n",
       "  </tbody>\n",
       "</table>\n",
       "<p>543 rows × 6 columns</p>\n",
       "</div>"
      ],
      "text/plain": [
       "                                                Company  Year    Records  \\\n",
       "588             Saint Louis County Department of Health  2020       4000   \n",
       "589                    Northwestern Memorial HealthCare  2020      16025   \n",
       "590   Mercy Medical Center Redding - Oncology Clinic...  2020      21000   \n",
       "591                                        Walgreen Co.  2020     160000   \n",
       "592                                Clay County Hospital  2020      12621   \n",
       "...                                                 ...   ...        ...   \n",
       "1126                                 AgusiQ-Torrents.pl  2020    9047800   \n",
       "1127                                         Adobe Inc.  2020  750000000   \n",
       "1128                                               3fun  2020  150000000   \n",
       "1129                                           1to1help  2020   30000000   \n",
       "1130                                    1177 Care Guide  2020  270000000   \n",
       "\n",
       "     Organization_type       Method Breach_Severity  \n",
       "588            medical       hacked             low  \n",
       "589       organization       hacked          medium  \n",
       "590            medical       hacked          medium  \n",
       "591       organization       hacked            high  \n",
       "592            medical       hacked          medium  \n",
       "...                ...          ...             ...  \n",
       "1126               Web       hacked            high  \n",
       "1127              tech  it incident            high  \n",
       "1128               Web  it incident            high  \n",
       "1129           medical  it incident            high  \n",
       "1130           medical       hacked            high  \n",
       "\n",
       "[543 rows x 6 columns]"
      ]
     },
     "execution_count": 179,
     "metadata": {},
     "output_type": "execute_result"
    }
   ],
   "source": [
    "cyberdatad = pd.read_csv('cydata.csv',encoding='latin-1')\n",
    "cyberdatad = cyberdatad.replace(np.nan, 0, regex=True)\n",
    "cyberdatad['Records'] =cyberdatad['Records'].str.replace(r'[^\\w\\s]+','')\n",
    "cyberdatad['Records'] =cyberdatad['Records'].str.replace(r' ','')\n",
    "cyberdatad['Records']=cyberdatad['Records'].astype('int64')\n",
    "cyberdatad['Organization_type'].replace({'information technology':'tech','Telecoms':'tech','Tech':'tech',' tech':'tech','techmunications':'tech','Airline':'organization','Retail':'organization','Financial':'organization','Education':'organization','academic':'organization','government':'organization','government':'organization','Government':'organization','Hospitality':'organization','mobile carrier':'organization','advertising':'organization','consulting, accounting':'organization','teching':'organization','military':'organization','Healthcare':'medical','App':'Web','Automobile':'Web','Gaming':'Web','Other':'Web'}, inplace=True)\n",
    "cyberdatad[\"Method\"].replace({\"lost\": 'hacked','poor security':'hacked','Hacking/IT Incident':'hacked','Oops':'hacked','Hacked':'hacked','theft':'hacked','Third-party':'hacked','Theft':'hacked','Loss':'hacked','poor security/inside job':'hacked','unsecured S3 bucket':'hacked','Insider Job':'hacked','inside job, hacked':'hacked','poor security / hacked':'hacked','misconfiguration/poor security':'hacked','Unauthorized access':'hacked','lost / stolen media':'it incident','lost / stolen computer':'it incident','Misconfiguration':'it incident','unprotected api':'it incident','accidentally published':'it incident','accidentally uploaded':'it incident','accidentally exposed':'it incident','social engineering':'it incident','data exposed by misconfiguration':'data breach','inside job':'data breach'}, inplace=True)\n",
    "cyberdatad['Organization_type'] = pd.to_numeric(cyberdatad['Organization_type'], errors='ignore')\n",
    "cyberdatad=cyberdatad.iloc[::-1].reset_index(drop=True)\n",
    "cyberdatad['Breach_Severity']= np.where(cyberdatad.Records <=10000, 'low',np.where(cyberdatad.Records <=100000, 'medium','high'))\n",
    "cyberdatad=cyberdatad[cyberdatad.Year == 2020]\n",
    "cyberdatad"
   ]
  },
  {
   "cell_type": "code",
   "execution_count": 180,
   "metadata": {},
   "outputs": [
    {
     "data": {
      "text/plain": [
       "<AxesSubplot:xlabel='Organization_type', ylabel='count'>"
      ]
     },
     "execution_count": 180,
     "metadata": {},
     "output_type": "execute_result"
    },
    {
     "data": {
      "image/png": "[encoded data removed]",
      "text/plain": [
       "<Figure size 1080x720 with 1 Axes>"
      ]
     },
     "metadata": {
      "needs_background": "light"
     },
     "output_type": "display_data"
    }
   ],
   "source": [
    "plt.figure(figsize=(15,10))\n",
    "sns.countplot(x='Organization_type',hue='Breach_Severity',data=cyberdatad,palette='Set1')"
   ]
  },
  {
   "cell_type": "code",
   "execution_count": 181,
   "metadata": {},
   "outputs": [
    {
     "data": {
      "text/plain": [
       "<AxesSubplot:xlabel='Organization_type', ylabel='count'>"
      ]
     },
     "execution_count": 181,
     "metadata": {},
     "output_type": "execute_result"
    },
    {
     "data": {
      "image/png": "[encoded data removed]",
      "text/plain": [
       "<Figure size 1080x720 with 1 Axes>"
      ]
     },
     "metadata": {
      "needs_background": "light"
     },
     "output_type": "display_data"
    }
   ],
   "source": [
    "plt.figure(figsize=(15,10))\n",
    "sns.countplot(x='Organization_type',hue='Method',data=cyberdatad,palette='Set1')"
   ]
  },
  {
   "cell_type": "code",
   "execution_count": 182,
   "metadata": {},
   "outputs": [
    {
     "data": {
      "text/html": [
       "<div>\n",
       "<style scoped>\n",
       "    .dataframe tbody tr th:only-of-type {\n",
       "        vertical-align: middle;\n",
       "    }\n",
       "\n",
       "    .dataframe tbody tr th {\n",
       "        vertical-align: top;\n",
       "    }\n",
       "\n",
       "    .dataframe thead th {\n",
       "        text-align: right;\n",
       "    }\n",
       "</style>\n",
       "<table border=\"1\" class=\"dataframe\">\n",
       "  <thead>\n",
       "    <tr style=\"text-align: right;\">\n",
       "      <th></th>\n",
       "      <th>Company</th>\n",
       "      <th>Year</th>\n",
       "      <th>Records</th>\n",
       "      <th>Organization_type</th>\n",
       "      <th>Method</th>\n",
       "      <th>Breach_Severity</th>\n",
       "    </tr>\n",
       "  </thead>\n",
       "  <tbody>\n",
       "    <tr>\n",
       "      <th>588</th>\n",
       "      <td>Saint Louis County Department of Health</td>\n",
       "      <td>2020</td>\n",
       "      <td>4000</td>\n",
       "      <td>1</td>\n",
       "      <td>1</td>\n",
       "      <td>low</td>\n",
       "    </tr>\n",
       "    <tr>\n",
       "      <th>589</th>\n",
       "      <td>Northwestern Memorial HealthCare</td>\n",
       "      <td>2020</td>\n",
       "      <td>16025</td>\n",
       "      <td>2</td>\n",
       "      <td>1</td>\n",
       "      <td>medium</td>\n",
       "    </tr>\n",
       "    <tr>\n",
       "      <th>590</th>\n",
       "      <td>Mercy Medical Center Redding - Oncology Clinic...</td>\n",
       "      <td>2020</td>\n",
       "      <td>21000</td>\n",
       "      <td>1</td>\n",
       "      <td>1</td>\n",
       "      <td>medium</td>\n",
       "    </tr>\n",
       "    <tr>\n",
       "      <th>591</th>\n",
       "      <td>Walgreen Co.</td>\n",
       "      <td>2020</td>\n",
       "      <td>160000</td>\n",
       "      <td>2</td>\n",
       "      <td>1</td>\n",
       "      <td>high</td>\n",
       "    </tr>\n",
       "    <tr>\n",
       "      <th>592</th>\n",
       "      <td>Clay County Hospital</td>\n",
       "      <td>2020</td>\n",
       "      <td>12621</td>\n",
       "      <td>1</td>\n",
       "      <td>1</td>\n",
       "      <td>medium</td>\n",
       "    </tr>\n",
       "    <tr>\n",
       "      <th>...</th>\n",
       "      <td>...</td>\n",
       "      <td>...</td>\n",
       "      <td>...</td>\n",
       "      <td>...</td>\n",
       "      <td>...</td>\n",
       "      <td>...</td>\n",
       "    </tr>\n",
       "    <tr>\n",
       "      <th>1126</th>\n",
       "      <td>AgusiQ-Torrents.pl</td>\n",
       "      <td>2020</td>\n",
       "      <td>9047800</td>\n",
       "      <td>0</td>\n",
       "      <td>1</td>\n",
       "      <td>high</td>\n",
       "    </tr>\n",
       "    <tr>\n",
       "      <th>1127</th>\n",
       "      <td>Adobe Inc.</td>\n",
       "      <td>2020</td>\n",
       "      <td>750000000</td>\n",
       "      <td>3</td>\n",
       "      <td>2</td>\n",
       "      <td>high</td>\n",
       "    </tr>\n",
       "    <tr>\n",
       "      <th>1128</th>\n",
       "      <td>3fun</td>\n",
       "      <td>2020</td>\n",
       "      <td>150000000</td>\n",
       "      <td>0</td>\n",
       "      <td>2</td>\n",
       "      <td>high</td>\n",
       "    </tr>\n",
       "    <tr>\n",
       "      <th>1129</th>\n",
       "      <td>1to1help</td>\n",
       "      <td>2020</td>\n",
       "      <td>30000000</td>\n",
       "      <td>1</td>\n",
       "      <td>2</td>\n",
       "      <td>high</td>\n",
       "    </tr>\n",
       "    <tr>\n",
       "      <th>1130</th>\n",
       "      <td>1177 Care Guide</td>\n",
       "      <td>2020</td>\n",
       "      <td>270000000</td>\n",
       "      <td>1</td>\n",
       "      <td>1</td>\n",
       "      <td>high</td>\n",
       "    </tr>\n",
       "  </tbody>\n",
       "</table>\n",
       "<p>543 rows × 6 columns</p>\n",
       "</div>"
      ],
      "text/plain": [
       "                                                Company  Year    Records  \\\n",
       "588             Saint Louis County Department of Health  2020       4000   \n",
       "589                    Northwestern Memorial HealthCare  2020      16025   \n",
       "590   Mercy Medical Center Redding - Oncology Clinic...  2020      21000   \n",
       "591                                        Walgreen Co.  2020     160000   \n",
       "592                                Clay County Hospital  2020      12621   \n",
       "...                                                 ...   ...        ...   \n",
       "1126                                 AgusiQ-Torrents.pl  2020    9047800   \n",
       "1127                                         Adobe Inc.  2020  750000000   \n",
       "1128                                               3fun  2020  150000000   \n",
       "1129                                           1to1help  2020   30000000   \n",
       "1130                                    1177 Care Guide  2020  270000000   \n",
       "\n",
       "      Organization_type  Method Breach_Severity  \n",
       "588                   1       1             low  \n",
       "589                   2       1          medium  \n",
       "590                   1       1          medium  \n",
       "591                   2       1            high  \n",
       "592                   1       1          medium  \n",
       "...                 ...     ...             ...  \n",
       "1126                  0       1            high  \n",
       "1127                  3       2            high  \n",
       "1128                  0       2            high  \n",
       "1129                  1       2            high  \n",
       "1130                  1       1            high  \n",
       "\n",
       "[543 rows x 6 columns]"
      ]
     },
     "execution_count": 182,
     "metadata": {},
     "output_type": "execute_result"
    }
   ],
   "source": [
    "le=LabelEncoder()\n",
    "cyberdatad['Organization_type']=le.fit_transform(cyberdatad['Organization_type'])\n",
    "cyberdatad['Method']=le.fit_transform(cyberdatad['Method'])\n",
    "cyberdatad"
   ]
  },
  {
   "cell_type": "markdown",
   "metadata": {},
   "source": [
    "# DT"
   ]
  },
  {
   "cell_type": "code",
   "execution_count": 183,
   "metadata": {},
   "outputs": [
    {
     "data": {
      "text/plain": [
       "array(['high', 'high', 'high', 'high', 'high', 'high', 'medium', 'high',\n",
       "       'high', 'high', 'high', 'medium', 'high', 'high', 'low', 'high',\n",
       "       'medium', 'low', 'medium', 'high', 'medium', 'high', 'high',\n",
       "       'medium', 'high', 'high', 'high', 'high', 'low', 'high', 'high',\n",
       "       'low', 'high', 'low', 'high', 'high', 'high', 'high', 'low', 'low',\n",
       "       'low', 'high', 'low', 'low', 'high', 'high', 'low', 'high', 'high',\n",
       "       'high', 'high', 'high', 'low', 'high', 'high', 'high', 'low',\n",
       "       'high', 'high', 'low', 'high', 'high', 'low', 'high', 'low',\n",
       "       'high', 'low', 'high', 'low', 'high', 'high', 'high', 'high',\n",
       "       'medium', 'high', 'medium', 'high', 'low', 'low', 'high', 'high',\n",
       "       'high', 'high', 'high', 'medium', 'low', 'high', 'low', 'low',\n",
       "       'high', 'high', 'low', 'high', 'high', 'low', 'high', 'low',\n",
       "       'high', 'high', 'high', 'low', 'high', 'low', 'high', 'high',\n",
       "       'high', 'low', 'medium', 'high', 'low', 'high', 'high', 'high',\n",
       "       'high', 'high', 'high', 'medium', 'high', 'high', 'low', 'high',\n",
       "       'high', 'high', 'low', 'high', 'high', 'low', 'medium', 'high',\n",
       "       'medium', 'low', 'high', 'high', 'low', 'high', 'high', 'medium',\n",
       "       'high', 'high', 'low', 'low', 'high', 'high', 'medium', 'low',\n",
       "       'medium', 'high', 'high', 'high', 'high', 'high', 'low', 'low',\n",
       "       'high', 'high', 'high', 'high', 'high', 'low', 'high', 'high',\n",
       "       'low', 'low'], dtype=object)"
      ]
     },
     "execution_count": 183,
     "metadata": {},
     "output_type": "execute_result"
    }
   ],
   "source": [
    "x=cyberdatad.iloc[:,[1,2,3,4]]\n",
    "y=cyberdatad.iloc[:, 5]\n",
    "from sklearn.model_selection import train_test_split\n",
    "x_train,x_test,y_train,y_test=train_test_split(x,y,test_size=0.3,random_state = 10)\n",
    "dtree = DecisionTreeClassifier()\n",
    "dtree.fit(x_train,y_train)\n",
    "y_pred=dtree.predict(x_test)\n",
    "y_pred"
   ]
  },
  {
   "cell_type": "code",
   "execution_count": 184,
   "metadata": {},
   "outputs": [
    {
     "data": {
      "text/plain": [
       "0.9938650306748467"
      ]
     },
     "execution_count": 184,
     "metadata": {},
     "output_type": "execute_result"
    }
   ],
   "source": [
    "from sklearn.metrics import accuracy_score\n",
    "acc=accuracy_score(y_test, y_pred)\n",
    "acc"
   ]
  },
  {
   "cell_type": "code",
   "execution_count": 185,
   "metadata": {},
   "outputs": [],
   "source": [
    "def chart_regression(pred,y,sort=True):\n",
    "    t=pd.DataFrame({'pred':pred,'y':y.flatten()})\n",
    "    if sort:\n",
    "        t.sort_values(by=['y'],inplace=True)\n",
    "    plt.plot(t['y'].tolist(),label='execpted')\n",
    "    plt.plot(t['pred'].tolist(),label='prediction')\n",
    "    plt.ylabel('OUTPUT')\n",
    "    plt.legend()\n",
    "    plt.show()"
   ]
  },
  {
   "cell_type": "code",
   "execution_count": 186,
   "metadata": {},
   "outputs": [
    {
     "data": {
      "image/png": "[encoded data removed]",
      "text/plain": [
       "<Figure size 432x288 with 1 Axes>"
      ]
     },
     "metadata": {
      "needs_background": "light"
     },
     "output_type": "display_data"
    }
   ],
   "source": [
    "y_test = np.array(list(y_test))\n",
    "y_pred = np.array(y_pred)\n",
    "chart_regression(y_pred.flatten(),y_test)"
   ]
  },
  {
   "cell_type": "markdown",
   "metadata": {},
   "source": [
    "# RF"
   ]
  },
  {
   "cell_type": "code",
   "execution_count": 187,
   "metadata": {},
   "outputs": [
    {
     "data": {
      "text/plain": [
       "array(['high', 'high', 'high', 'high', 'high', 'high', 'medium', 'high',\n",
       "       'high', 'high', 'high', 'medium', 'high', 'high', 'low', 'high',\n",
       "       'medium', 'low', 'medium', 'high', 'medium', 'high', 'high',\n",
       "       'medium', 'high', 'high', 'high', 'high', 'low', 'high', 'high',\n",
       "       'low', 'high', 'low', 'high', 'high', 'high', 'high', 'low', 'low',\n",
       "       'low', 'high', 'low', 'low', 'high', 'high', 'low', 'high', 'high',\n",
       "       'high', 'high', 'high', 'low', 'high', 'high', 'high', 'low',\n",
       "       'high', 'high', 'low', 'high', 'high', 'low', 'high', 'low',\n",
       "       'high', 'low', 'high', 'low', 'high', 'high', 'high', 'high',\n",
       "       'medium', 'high', 'medium', 'high', 'low', 'low', 'high', 'high',\n",
       "       'high', 'high', 'high', 'medium', 'low', 'high', 'low', 'low',\n",
       "       'high', 'high', 'low', 'high', 'high', 'low', 'high', 'low',\n",
       "       'high', 'high', 'high', 'low', 'high', 'low', 'high', 'high',\n",
       "       'high', 'low', 'medium', 'high', 'low', 'high', 'high', 'high',\n",
       "       'high', 'high', 'high', 'medium', 'high', 'high', 'low', 'high',\n",
       "       'high', 'high', 'low', 'high', 'high', 'low', 'medium', 'high',\n",
       "       'medium', 'low', 'high', 'high', 'low', 'high', 'high', 'medium',\n",
       "       'high', 'high', 'low', 'low', 'high', 'high', 'medium', 'low',\n",
       "       'medium', 'high', 'high', 'high', 'high', 'high', 'low', 'low',\n",
       "       'high', 'high', 'high', 'high', 'high', 'low', 'high', 'high',\n",
       "       'low', 'low'], dtype=object)"
      ]
     },
     "execution_count": 187,
     "metadata": {},
     "output_type": "execute_result"
    }
   ],
   "source": [
    "x=cyberdatad.iloc[:,[1,2,3,4]]\n",
    "y=cyberdatad.iloc[:, 5]\n",
    "from sklearn.model_selection import train_test_split\n",
    "x_train,x_test,y_train,y_test=train_test_split(x,y,test_size=0.3,random_state = 10)\n",
    "from sklearn.ensemble import RandomForestRegressor\n",
    "rfc = RandomForestClassifier(n_estimators=100)\n",
    "rfc.fit(x_train,y_train)\n",
    "y_pred=rfc.predict(x_test)\n",
    "y_pred"
   ]
  },
  {
   "cell_type": "code",
   "execution_count": 188,
   "metadata": {},
   "outputs": [
    {
     "data": {
      "text/plain": [
       "0.9938650306748467"
      ]
     },
     "execution_count": 188,
     "metadata": {},
     "output_type": "execute_result"
    }
   ],
   "source": [
    "from sklearn.metrics import accuracy_score\n",
    "acc=accuracy_score(y_test, y_pred)\n",
    "acc"
   ]
  },
  {
   "cell_type": "code",
   "execution_count": 189,
   "metadata": {},
   "outputs": [],
   "source": [
    "def chart_regression(pred,y,sort=True):\n",
    "    t=pd.DataFrame({'pred':pred,'y':y.flatten()})\n",
    "    if sort:\n",
    "        t.sort_values(by=['y'],inplace=True)\n",
    "    plt.plot(t['y'].tolist(),label='execpted')\n",
    "    plt.plot(t['pred'].tolist(),label='prediction')\n",
    "    plt.ylabel('OUTPUT')\n",
    "    plt.legend()\n",
    "    plt.show()"
   ]
  },
  {
   "cell_type": "code",
   "execution_count": 190,
   "metadata": {},
   "outputs": [
    {
     "data": {
      "image/png": "[encoded data removed]",
      "text/plain": [
       "<Figure size 432x288 with 1 Axes>"
      ]
     },
     "metadata": {
      "needs_background": "light"
     },
     "output_type": "display_data"
    }
   ],
   "source": [
    "y_test = np.array(list(y_test))\n",
    "y_pred = np.array(y_pred)\n",
    "chart_regression(y_pred.flatten(),y_test)"
   ]
  },
  {
   "cell_type": "markdown",
   "metadata": {},
   "source": [
    "# NB"
   ]
  },
  {
   "cell_type": "code",
   "execution_count": 191,
   "metadata": {},
   "outputs": [
    {
     "data": {
      "text/plain": [
       "array(['high', 'high', 'high', 'high', 'high', 'high', 'low', 'high',\n",
       "       'high', 'high', 'high', 'low', 'high', 'low', 'low', 'high', 'low',\n",
       "       'low', 'low', 'high', 'low', 'low', 'high', 'low', 'high', 'low',\n",
       "       'high', 'high', 'low', 'high', 'low', 'low', 'high', 'low', 'low',\n",
       "       'low', 'high', 'high', 'low', 'low', 'low', 'high', 'low', 'low',\n",
       "       'high', 'high', 'low', 'high', 'low', 'high', 'low', 'high', 'low',\n",
       "       'high', 'high', 'high', 'low', 'high', 'high', 'low', 'high',\n",
       "       'high', 'low', 'high', 'low', 'high', 'low', 'high', 'low', 'high',\n",
       "       'high', 'high', 'low', 'low', 'low', 'low', 'high', 'low', 'low',\n",
       "       'low', 'high', 'high', 'high', 'high', 'low', 'low', 'high', 'low',\n",
       "       'low', 'high', 'low', 'low', 'high', 'high', 'low', 'high', 'low',\n",
       "       'high', 'high', 'low', 'low', 'low', 'low', 'low', 'high', 'low',\n",
       "       'low', 'low', 'high', 'low', 'high', 'low', 'high', 'high', 'low',\n",
       "       'high', 'low', 'low', 'high', 'low', 'high', 'high', 'high', 'low',\n",
       "       'low', 'high', 'low', 'low', 'high', 'low', 'low', 'high', 'high',\n",
       "       'low', 'low', 'high', 'low', 'low', 'low', 'low', 'low', 'high',\n",
       "       'high', 'low', 'low', 'low', 'high', 'high', 'high', 'high', 'low',\n",
       "       'low', 'low', 'high', 'low', 'high', 'high', 'low', 'low', 'high',\n",
       "       'high', 'low', 'low'], dtype='<U6')"
      ]
     },
     "execution_count": 191,
     "metadata": {},
     "output_type": "execute_result"
    }
   ],
   "source": [
    "x=cyberdatad.iloc[:,[1,2,3,4]]\n",
    "y=cyberdatad.iloc[:, 5]\n",
    "from sklearn.model_selection import train_test_split\n",
    "x_train,x_test,y_train,y_test=train_test_split(x,y,test_size=0.3,random_state = 10)\n",
    "from sklearn.naive_bayes import GaussianNB\n",
    "model = GaussianNB()\n",
    "model.fit(x_train, y_train)\n",
    "y_pred = model.predict(x_test)\n",
    "y_pred"
   ]
  },
  {
   "cell_type": "code",
   "execution_count": 192,
   "metadata": {},
   "outputs": [
    {
     "data": {
      "text/plain": [
       "0.7423312883435583"
      ]
     },
     "execution_count": 192,
     "metadata": {},
     "output_type": "execute_result"
    }
   ],
   "source": [
    "from sklearn.metrics import accuracy_score\n",
    "acc=accuracy_score(y_test, y_pred)\n",
    "acc"
   ]
  },
  {
   "cell_type": "code",
   "execution_count": 193,
   "metadata": {},
   "outputs": [],
   "source": [
    "def chart_regression(pred,y,sort=True):\n",
    "    t=pd.DataFrame({'pred':pred,'y':y.flatten()})\n",
    "    if sort:\n",
    "        t.sort_values(by=['y'],inplace=True)\n",
    "    plt.plot(t['y'].tolist(),label='execpted')\n",
    "    plt.plot(t['pred'].tolist(),label='prediction')\n",
    "    plt.ylabel('OUTPUT')\n",
    "    plt.legend()\n",
    "    plt.show()"
   ]
  },
  {
   "cell_type": "code",
   "execution_count": 194,
   "metadata": {},
   "outputs": [
    {
     "data": {
      "image/png": "[encoded data removed]",
      "text/plain": [
       "<Figure size 432x288 with 1 Axes>"
      ]
     },
     "metadata": {
      "needs_background": "light"
     },
     "output_type": "display_data"
    }
   ],
   "source": [
    "y_test = np.array(list(y_test))\n",
    "y_pred = np.array(y_pred)\n",
    "chart_regression(y_pred.flatten(),y_test)"
   ]
  },
  {
   "cell_type": "markdown",
   "metadata": {},
   "source": [
    "# KNN"
   ]
  },
  {
   "cell_type": "code",
   "execution_count": 195,
   "metadata": {},
   "outputs": [
    {
     "data": {
      "text/plain": [
       "array(['high', 'high', 'high', 'high', 'high', 'high', 'medium', 'high',\n",
       "       'high', 'high', 'high', 'medium', 'high', 'high', 'low', 'high',\n",
       "       'medium', 'low', 'medium', 'high', 'medium', 'high', 'high',\n",
       "       'medium', 'high', 'high', 'high', 'high', 'low', 'high', 'high',\n",
       "       'low', 'high', 'low', 'high', 'high', 'high', 'high', 'low', 'low',\n",
       "       'low', 'high', 'low', 'low', 'high', 'high', 'low', 'high', 'high',\n",
       "       'high', 'high', 'high', 'low', 'high', 'high', 'high', 'low',\n",
       "       'high', 'high', 'low', 'high', 'high', 'low', 'high', 'low',\n",
       "       'high', 'low', 'high', 'low', 'high', 'high', 'high', 'high',\n",
       "       'medium', 'high', 'medium', 'high', 'low', 'low', 'high', 'high',\n",
       "       'high', 'high', 'high', 'medium', 'low', 'high', 'low', 'low',\n",
       "       'high', 'high', 'low', 'high', 'high', 'low', 'high', 'low',\n",
       "       'high', 'high', 'high', 'low', 'high', 'low', 'high', 'high',\n",
       "       'high', 'low', 'medium', 'high', 'low', 'high', 'high', 'high',\n",
       "       'high', 'high', 'high', 'medium', 'high', 'high', 'low', 'high',\n",
       "       'high', 'high', 'low', 'high', 'high', 'low', 'medium', 'high',\n",
       "       'high', 'low', 'high', 'high', 'low', 'high', 'high', 'medium',\n",
       "       'high', 'high', 'low', 'low', 'high', 'high', 'medium', 'low',\n",
       "       'medium', 'high', 'high', 'high', 'high', 'high', 'low', 'low',\n",
       "       'high', 'high', 'high', 'high', 'high', 'low', 'high', 'high',\n",
       "       'low', 'low'], dtype=object)"
      ]
     },
     "execution_count": 195,
     "metadata": {},
     "output_type": "execute_result"
    }
   ],
   "source": [
    "x=cyberdatad.iloc[:,[1,2,3,4]]\n",
    "y=cyberdatad.iloc[:, 5]\n",
    "from sklearn.model_selection import train_test_split\n",
    "x_train,x_test,y_train,y_test=train_test_split(x,y,test_size=0.3,random_state = 10)\n",
    "from sklearn.neighbors import KNeighborsClassifier\n",
    "kn = KNeighborsClassifier()\n",
    "kn.fit(x_train,y_train)\n",
    "y_pred = kn.predict(x_test)\n",
    "y_pred"
   ]
  },
  {
   "cell_type": "code",
   "execution_count": 196,
   "metadata": {},
   "outputs": [
    {
     "data": {
      "text/plain": [
       "1.0"
      ]
     },
     "execution_count": 196,
     "metadata": {},
     "output_type": "execute_result"
    }
   ],
   "source": [
    "from sklearn.metrics import accuracy_score\n",
    "acc=accuracy_score(y_test, y_pred)\n",
    "acc"
   ]
  },
  {
   "cell_type": "code",
   "execution_count": 197,
   "metadata": {},
   "outputs": [],
   "source": [
    "def chart_regression(pred,y,sort=True):\n",
    "    t=pd.DataFrame({'pred':pred,'y':y.flatten()})\n",
    "    if sort:\n",
    "        t.sort_values(by=['y'],inplace=True)\n",
    "    plt.plot(t['y'].tolist(),label='execpted')\n",
    "    plt.plot(t['pred'].tolist(),label='prediction')\n",
    "    plt.ylabel('OUTPUT')\n",
    "    plt.legend()\n",
    "    plt.show()"
   ]
  },
  {
   "cell_type": "code",
   "execution_count": 198,
   "metadata": {},
   "outputs": [
    {
     "data": {
      "image/png": "[encoded data removed]",
      "text/plain": [
       "<Figure size 432x288 with 1 Axes>"
      ]
     },
     "metadata": {
      "needs_background": "light"
     },
     "output_type": "display_data"
    }
   ],
   "source": [
    "y_test = np.array(list(y_test))\n",
    "y_pred = np.array(y_pred)\n",
    "chart_regression(y_pred.flatten(),y_test)"
   ]
  },
  {
   "cell_type": "markdown",
   "metadata": {},
   "source": [
    "# ADA"
   ]
  },
  {
   "cell_type": "code",
   "execution_count": 199,
   "metadata": {},
   "outputs": [
    {
     "data": {
      "text/plain": [
       "array(['high', 'high', 'high', 'high', 'high', 'high', 'medium', 'high',\n",
       "       'high', 'high', 'high', 'medium', 'high', 'high', 'low', 'high',\n",
       "       'medium', 'low', 'medium', 'high', 'medium', 'high', 'high',\n",
       "       'medium', 'high', 'high', 'high', 'high', 'low', 'high', 'high',\n",
       "       'low', 'high', 'low', 'high', 'high', 'high', 'high', 'low', 'low',\n",
       "       'low', 'high', 'low', 'low', 'high', 'high', 'low', 'high', 'high',\n",
       "       'high', 'high', 'high', 'low', 'high', 'high', 'high', 'low',\n",
       "       'high', 'high', 'low', 'high', 'high', 'low', 'high', 'low',\n",
       "       'high', 'low', 'high', 'low', 'high', 'high', 'high', 'high',\n",
       "       'medium', 'high', 'medium', 'high', 'low', 'low', 'high', 'high',\n",
       "       'high', 'high', 'high', 'medium', 'low', 'high', 'low', 'low',\n",
       "       'high', 'high', 'low', 'high', 'high', 'low', 'high', 'low',\n",
       "       'high', 'high', 'high', 'low', 'high', 'low', 'high', 'high',\n",
       "       'high', 'low', 'medium', 'high', 'low', 'high', 'high', 'high',\n",
       "       'high', 'high', 'high', 'medium', 'high', 'high', 'low', 'high',\n",
       "       'high', 'high', 'low', 'high', 'high', 'low', 'medium', 'high',\n",
       "       'medium', 'low', 'high', 'high', 'low', 'high', 'high', 'medium',\n",
       "       'high', 'high', 'low', 'low', 'high', 'high', 'medium', 'low',\n",
       "       'medium', 'high', 'high', 'high', 'high', 'high', 'low', 'low',\n",
       "       'high', 'high', 'high', 'high', 'high', 'low', 'high', 'high',\n",
       "       'low', 'low'], dtype=object)"
      ]
     },
     "execution_count": 199,
     "metadata": {},
     "output_type": "execute_result"
    }
   ],
   "source": [
    "x=cyberdatad.iloc[:,[1,2,3,4]]\n",
    "y=cyberdatad.iloc[:, 5]\n",
    "from sklearn.model_selection import train_test_split\n",
    "x_train,x_test,y_train,y_test=train_test_split(x,y,test_size=0.3,random_state = 10)\n",
    "from sklearn.ensemble import AdaBoostClassifier\n",
    "abc = AdaBoostClassifier(n_estimators=50,learning_rate=1)\n",
    "model = abc.fit(x_train, y_train)\n",
    "y_pred = model.predict(x_test)\n",
    "y_pred"
   ]
  },
  {
   "cell_type": "code",
   "execution_count": 200,
   "metadata": {},
   "outputs": [
    {
     "data": {
      "text/plain": [
       "0.9938650306748467"
      ]
     },
     "execution_count": 200,
     "metadata": {},
     "output_type": "execute_result"
    }
   ],
   "source": [
    "from sklearn.metrics import accuracy_score\n",
    "acc=accuracy_score(y_test, y_pred)\n",
    "acc"
   ]
  },
  {
   "cell_type": "code",
   "execution_count": 201,
   "metadata": {},
   "outputs": [],
   "source": [
    "def chart_regression(pred,y,sort=True):\n",
    "    t=pd.DataFrame({'pred':pred,'y':y.flatten()})\n",
    "    if sort:\n",
    "        t.sort_values(by=['y'],inplace=True)\n",
    "    plt.plot(t['y'].tolist(),label='execpted')\n",
    "    plt.plot(t['pred'].tolist(),label='prediction')\n",
    "    plt.ylabel('OUTPUT')\n",
    "    plt.legend()\n",
    "    plt.show()"
   ]
  },
  {
   "cell_type": "code",
   "execution_count": 202,
   "metadata": {},
   "outputs": [
    {
     "data": {
      "image/png": "[encoded data removed]",
      "text/plain": [
       "<Figure size 432x288 with 1 Axes>"
      ]
     },
     "metadata": {
      "needs_background": "light"
     },
     "output_type": "display_data"
    }
   ],
   "source": [
    "y_test = np.array(list(y_test))\n",
    "y_pred = np.array(y_pred)\n",
    "chart_regression(y_pred.flatten(),y_test)"
   ]
  },
  {
   "cell_type": "markdown",
   "metadata": {},
   "source": [
    "# LR"
   ]
  },
  {
   "cell_type": "code",
   "execution_count": 203,
   "metadata": {},
   "outputs": [
    {
     "data": {
      "text/plain": [
       "array(['high', 'high', 'high', 'high', 'high', 'high', 'medium', 'high',\n",
       "       'high', 'high', 'high', 'medium', 'high', 'high', 'low', 'high',\n",
       "       'medium', 'low', 'medium', 'high', 'medium', 'high', 'high',\n",
       "       'medium', 'high', 'high', 'high', 'high', 'low', 'high', 'high',\n",
       "       'low', 'high', 'low', 'high', 'high', 'high', 'high', 'low', 'low',\n",
       "       'low', 'high', 'low', 'low', 'high', 'high', 'low', 'high', 'high',\n",
       "       'high', 'high', 'high', 'low', 'high', 'high', 'high', 'low',\n",
       "       'high', 'high', 'low', 'high', 'high', 'low', 'high', 'low',\n",
       "       'high', 'low', 'high', 'low', 'high', 'high', 'high', 'high',\n",
       "       'medium', 'high', 'medium', 'high', 'low', 'low', 'high', 'high',\n",
       "       'high', 'high', 'high', 'medium', 'low', 'high', 'low', 'low',\n",
       "       'high', 'high', 'low', 'high', 'high', 'low', 'high', 'low',\n",
       "       'high', 'high', 'high', 'low', 'high', 'low', 'high', 'high',\n",
       "       'high', 'low', 'medium', 'high', 'low', 'high', 'high', 'high',\n",
       "       'high', 'high', 'high', 'medium', 'high', 'high', 'low', 'high',\n",
       "       'high', 'high', 'low', 'high', 'high', 'low', 'medium', 'high',\n",
       "       'medium', 'low', 'high', 'high', 'low', 'high', 'high', 'medium',\n",
       "       'high', 'high', 'low', 'low', 'high', 'high', 'medium', 'low',\n",
       "       'medium', 'high', 'high', 'high', 'high', 'high', 'low', 'low',\n",
       "       'high', 'high', 'high', 'high', 'high', 'low', 'high', 'high',\n",
       "       'low', 'low'], dtype=object)"
      ]
     },
     "execution_count": 203,
     "metadata": {},
     "output_type": "execute_result"
    }
   ],
   "source": [
    "x=cyberdatad.iloc[:,[1,2,3,4]]\n",
    "y=cyberdatad.iloc[:, 5]\n",
    "from sklearn.model_selection import train_test_split\n",
    "x_train,x_test,y_train,y_test=train_test_split(x,y,test_size=0.3,random_state = 10)\n",
    "from sklearn.linear_model import LogisticRegression\n",
    "classifier = LogisticRegression()\n",
    "classifier.fit(x_train,y_train)\n",
    "y_pred = classifier.predict(x_test)\n",
    "y_pred"
   ]
  },
  {
   "cell_type": "code",
   "execution_count": 204,
   "metadata": {},
   "outputs": [
    {
     "data": {
      "text/plain": [
       "0.9938650306748467"
      ]
     },
     "execution_count": 204,
     "metadata": {},
     "output_type": "execute_result"
    }
   ],
   "source": [
    "from sklearn.metrics import accuracy_score\n",
    "acc=accuracy_score(y_test, y_pred)\n",
    "acc"
   ]
  },
  {
   "cell_type": "code",
   "execution_count": 205,
   "metadata": {},
   "outputs": [],
   "source": [
    "def chart_regression(pred,y,sort=True):\n",
    "    t=pd.DataFrame({'pred':pred,'y':y.flatten()})\n",
    "    if sort:\n",
    "        t.sort_values(by=['y'],inplace=True)\n",
    "    plt.plot(t['y'].tolist(),label='execpted')\n",
    "    plt.plot(t['pred'].tolist(),label='prediction')\n",
    "    plt.ylabel('OUTPUT')\n",
    "    plt.legend()\n",
    "    plt.show()"
   ]
  },
  {
   "cell_type": "code",
   "execution_count": 206,
   "metadata": {},
   "outputs": [
    {
     "data": {
      "image/png": "[encoded data removed]",
      "text/plain": [
       "<Figure size 432x288 with 1 Axes>"
      ]
     },
     "metadata": {
      "needs_background": "light"
     },
     "output_type": "display_data"
    }
   ],
   "source": [
    "y_test = np.array(list(y_test))\n",
    "y_pred = np.array(y_pred)\n",
    "chart_regression(y_pred.flatten(),y_test)"
   ]
  }
 ],
 "metadata": {
  "kernelspec": {
   "display_name": "Python 3 (ipykernel)",
   "language": "python",
   "name": "python3"
  },
  "language_info": {
   "codemirror_mode": {
    "name": "ipython",
    "version": 3
   },
   "file_extension": ".py",
   "mimetype": "text/x-python",
   "name": "python",
   "nbconvert_exporter": "python",
   "pygments_lexer": "ipython3",
   "version": "3.10.9"
  }
 },
 "nbformat": 4,
 "nbformat_minor": 4
}
